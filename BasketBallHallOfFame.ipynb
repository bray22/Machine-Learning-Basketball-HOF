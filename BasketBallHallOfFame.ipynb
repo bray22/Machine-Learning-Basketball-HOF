{
  "nbformat": 4,
  "nbformat_minor": 0,
  "metadata": {
    "colab": {
      "name": "HOF.ipynb",
      "provenance": [],
      "collapsed_sections": [],
      "authorship_tag": "ABX9TyOBFEj9TvLIb2uEidX4dN+6",
      "include_colab_link": true
    },
    "kernelspec": {
      "name": "python3",
      "display_name": "Python 3"
    },
    "language_info": {
      "name": "python"
    }
  },
  "cells": [
    {
      "cell_type": "markdown",
      "metadata": {
        "id": "view-in-github",
        "colab_type": "text"
      },
      "source": [
        "<a href=\"https://colab.research.google.com/github/vanderbilt-ml/51-ray-mlproj-basketballHOF/blob/main/BasketBallHallOfFame.ipynb\" target=\"_parent\"><img src=\"https://colab.research.google.com/assets/colab-badge.svg\" alt=\"Open In Colab\"/></a>"
      ]
    },
    {
      "cell_type": "markdown",
      "source": [
        "# Basketball Hall of Fame Predictor"
      ],
      "metadata": {
        "id": "ZixGwbaBsNOZ"
      }
    },
    {
      "cell_type": "markdown",
      "source": [
        "**Background**\n",
        "\n",
        "The Basketball Hall of Fame is an institution that honors the greatest NBA basketball players of all time. Located in Springfield, MA, the HOF includes over 400 of the most elite players from the last century.\n",
        "\n",
        "\n",
        "**Project Description**\n",
        "\n",
        "Using the statistics of current Hame of Fame inductees and current players, the goal of the project is to predict how likely a current NBA player is to be inducted into to the Basketball Hall of Fame. Players with statistics comparable to Hall of Fame inductees are considered a likely candidate for induction...\n",
        "\n",
        "\n",
        "**Performance Metric**\n",
        "\n",
        "The performance metric is player performance statistics."
      ],
      "metadata": {
        "id": "dSY3NQkzsrFW"
      }
    },
    {
      "cell_type": "code",
      "source": [
        "from google.colab import drive\n",
        "drive.mount('/content/drive')\n"
      ],
      "metadata": {
        "id": "4JTEYl-yEvlo",
        "colab": {
          "base_uri": "https://localhost:8080/"
        },
        "outputId": "a7e6bbe4-cbe6-4f79-f562-9466f49cb058"
      },
      "execution_count": 117,
      "outputs": [
        {
          "output_type": "stream",
          "name": "stdout",
          "text": [
            "Drive already mounted at /content/drive; to attempt to forcibly remount, call drive.mount(\"/content/drive\", force_remount=True).\n"
          ]
        }
      ]
    },
    {
      "cell_type": "code",
      "source": [
        "import pandas as pd\n",
        "import plotly.express as px\n",
        "import matplotlib.pyplot as plt\n",
        "\n",
        "path=\"/content/drive/MyDrive/csv/seasons.csv\";\n",
        "df=pd.read_csv(path)\n",
        "\n",
        "#average career span of HOF player\n",
        "playerspan=df.groupby(['Player'])['Player'].count().mean()\n",
        "print(playerspan)\n",
        "\n",
        "#Box plot showing statistics min, max, average and skews\n",
        "# Average point per game from player from player who score aggregate \n",
        "# points per game per season for best season\n",
        "pts=df.groupby(['Player'])['PTS'].mean().round(0).astype('int')\n",
        "maxPPG=pts.max()\n",
        "meanPPG=pts.mean()\n",
        "# max PPG\n",
        "maxPPG.real\n",
        "#average ppg\n",
        "meanPPG.real\n",
        "ppg = meanPPG / maxPPG\n",
        "ppgPercent = ppg * 100\n",
        "\n",
        "# Average DRB per game from player from player who score aggregate \n",
        "# DRB per season for best season\n",
        "drb=df.groupby(['Player'])['DRB'].mean().dropna()\n",
        "maxDRB=drb.max()\n",
        "meanDRB=drb.mean()\n",
        "# max DRB\n",
        "maxDRB.real\n",
        "#average DRB\n",
        "meanDRB.real\n",
        "drbp = meanDRB / maxDRB\n",
        "drbPercent = drbp * 100\n",
        "print(drbPercent)\n",
        "\n",
        "# Average AST per game from player from player who score aggregate \n",
        "# AST per season for best season\n",
        "ast=df.groupby(['Player'])['AST'].mean()\n",
        "maxAST=ast.max()\n",
        "meanAST=ast.mean()\n",
        "# max DRB\n",
        "maxAST.real\n",
        "#average DRB\n",
        "meanAST.real\n",
        "astp = meanAST / maxAST\n",
        "astPercent = astp * 100\n",
        "\n",
        "# Average STL per game from player from player who score aggregate \n",
        "# STL per season for best season\n",
        "stl=df.groupby(['Player'])['STL'].mean().dropna()\n",
        "maxSTL=stl.max()\n",
        "meanSTL=stl.mean()\n",
        "# max DRB\n",
        "maxSTL.real\n",
        "meanSTL.real\n",
        "stlp = meanSTL / maxSTL\n",
        "stlPercent = stlp * 100\n",
        "\n",
        "# Average BLK per game from player from player who score aggregate \n",
        "# BLK per season for best season\n",
        "blk=df.groupby(['Player'])['BLK'].mean().dropna()\n",
        "maxBLK=blk.max()\n",
        "meanBLK=blk.mean()\n",
        "# max BLK\n",
        "maxBLK.real\n",
        "#average BLK\n",
        "meanBLK.real\n",
        "blkp = meanBLK / maxBLK\n",
        "blkPercent = blkp * 100\n",
        "\n",
        "assists = ast\n",
        "blocks = blk\n",
        "rebounds = drb\n",
        "steals = stl\n",
        " \n",
        "box_plot_data=[assists,blocks,rebounds,steals]\n",
        "box=plt.boxplot(box_plot_data,vert=0,patch_artist=True,labels=['Assists','Blocks','Rebound','Steals'],\n",
        "            )\n",
        "colors = ['red', 'orange', 'green', 'blue']\n",
        "for patch, color in zip(box['boxes'], colors):\n",
        "    patch.set_facecolor(color)\n",
        " \n",
        "plt.show()\n",
        "\n",
        "# Radar chart showing mean assists versus maximum assists\n",
        "df = pd.DataFrame(dict(\n",
        "    r=[astPercent, stlPercent, blkPercent, ppgPercent, drbPercent],\n",
        "    theta=['Assists','Steals','Blocks',\n",
        "           'Points', 'Rebounds']))\n",
        "fig = px.line_polar(df, r='r', theta='theta', line_close=True)\n",
        "fig.update_traces(fill='toself')\n",
        "fig.show()\n"
      ],
      "metadata": {
        "colab": {
          "base_uri": "https://localhost:8080/",
          "height": 881
        },
        "id": "x8SmdlKfBxRT",
        "outputId": "13201371-4d00-4e1b-9040-4f108aff4493"
      },
      "execution_count": 118,
      "outputs": [
        {
          "output_type": "stream",
          "name": "stdout",
          "text": [
            "12.94078947368421\n",
            "47.938741974123836\n"
          ]
        },
        {
          "output_type": "stream",
          "name": "stderr",
          "text": [
            "/usr/local/lib/python3.7/dist-packages/matplotlib/cbook/__init__.py:1376: VisibleDeprecationWarning: Creating an ndarray from ragged nested sequences (which is a list-or-tuple of lists-or-tuples-or ndarrays with different lengths or shapes) is deprecated. If you meant to do this, you must specify 'dtype=object' when creating the ndarray.\n",
            "  X = np.atleast_1d(X.T if isinstance(X, np.ndarray) else np.asarray(X))\n"
          ]
        },
        {
          "output_type": "display_data",
          "data": {
            "text/plain": [
              "<Figure size 432x288 with 1 Axes>"
            ],
            "image/png": "[encoded data removed]"
          },
          "metadata": {
            "needs_background": "light"
          }
        },
        {
          "output_type": "display_data",
          "data": {
            "text/html": [
              "<html>\n",
              "<head><meta charset=\"utf-8\" /></head>\n",
              "<body>\n",
              "    <div>            <script src=\"https://cdnjs.cloudflare.com/ajax/libs/mathjax/2.7.5/MathJax.js?config=TeX-AMS-MML_SVG\"></script><script type=\"text/javascript\">if (window.MathJax) {MathJax.Hub.Config({SVG: {font: \"STIX-Web\"}});}</script>                <script type=\"text/javascript\">window.PlotlyConfig = {MathJaxConfig: 'local'};</script>\n",
              "        <script src=\"https://cdn.plot.ly/plotly-2.8.3.min.js\"></script>                <div id=\"c60f1c11-22f0-48da-83bc-44a8e2116799\" class=\"plotly-graph-div\" style=\"height:525px; width:100%;\"></div>            <script type=\"text/javascript\">                                    window.PLOTLYENV=window.PLOTLYENV || {};                                    if (document.getElementById(\"c60f1c11-22f0-48da-83bc-44a8e2116799\")) {                    Plotly.newPlot(                        \"c60f1c11-22f0-48da-83bc-44a8e2116799\",                        [{\"hovertemplate\":\"r=%{r}<br>theta=%{theta}<extra></extra>\",\"legendgroup\":\"\",\"line\":{\"color\":\"#636efa\",\"dash\":\"solid\"},\"marker\":{\"symbol\":\"circle\"},\"mode\":\"lines\",\"name\":\"\",\"r\":[31.833512057481194,43.62517161245204,26.81273124902674,52.37691001697793,47.938741974123836,31.833512057481194],\"showlegend\":false,\"subplot\":\"polar\",\"theta\":[\"Assists\",\"Steals\",\"Blocks\",\"Points\",\"Rebounds\",\"Assists\"],\"type\":\"scatterpolar\",\"fill\":\"toself\"}],                        {\"template\":{\"data\":{\"bar\":[{\"error_x\":{\"color\":\"#2a3f5f\"},\"error_y\":{\"color\":\"#2a3f5f\"},\"marker\":{\"line\":{\"color\":\"#E5ECF6\",\"width\":0.5},\"pattern\":{\"fillmode\":\"overlay\",\"size\":10,\"solidity\":0.2}},\"type\":\"bar\"}],\"barpolar\":[{\"marker\":{\"line\":{\"color\":\"#E5ECF6\",\"width\":0.5},\"pattern\":{\"fillmode\":\"overlay\",\"size\":10,\"solidity\":0.2}},\"type\":\"barpolar\"}],\"carpet\":[{\"aaxis\":{\"endlinecolor\":\"#2a3f5f\",\"gridcolor\":\"white\",\"linecolor\":\"white\",\"minorgridcolor\":\"white\",\"startlinecolor\":\"#2a3f5f\"},\"baxis\":{\"endlinecolor\":\"#2a3f5f\",\"gridcolor\":\"white\",\"linecolor\":\"white\",\"minorgridcolor\":\"white\",\"startlinecolor\":\"#2a3f5f\"},\"type\":\"carpet\"}],\"choropleth\":[{\"colorbar\":{\"outlinewidth\":0,\"ticks\":\"\"},\"type\":\"choropleth\"}],\"contour\":[{\"colorbar\":{\"outlinewidth\":0,\"ticks\":\"\"},\"colorscale\":[[0.0,\"#0d0887\"],[0.1111111111111111,\"#46039f\"],[0.2222222222222222,\"#7201a8\"],[0.3333333333333333,\"#9c179e\"],[0.4444444444444444,\"#bd3786\"],[0.5555555555555556,\"#d8576b\"],[0.6666666666666666,\"#ed7953\"],[0.7777777777777778,\"#fb9f3a\"],[0.8888888888888888,\"#fdca26\"],[1.0,\"#f0f921\"]],\"type\":\"contour\"}],\"contourcarpet\":[{\"colorbar\":{\"outlinewidth\":0,\"ticks\":\"\"},\"type\":\"contourcarpet\"}],\"heatmap\":[{\"colorbar\":{\"outlinewidth\":0,\"ticks\":\"\"},\"colorscale\":[[0.0,\"#0d0887\"],[0.1111111111111111,\"#46039f\"],[0.2222222222222222,\"#7201a8\"],[0.3333333333333333,\"#9c179e\"],[0.4444444444444444,\"#bd3786\"],[0.5555555555555556,\"#d8576b\"],[0.6666666666666666,\"#ed7953\"],[0.7777777777777778,\"#fb9f3a\"],[0.8888888888888888,\"#fdca26\"],[1.0,\"#f0f921\"]],\"type\":\"heatmap\"}],\"heatmapgl\":[{\"colorbar\":{\"outlinewidth\":0,\"ticks\":\"\"},\"colorscale\":[[0.0,\"#0d0887\"],[0.1111111111111111,\"#46039f\"],[0.2222222222222222,\"#7201a8\"],[0.3333333333333333,\"#9c179e\"],[0.4444444444444444,\"#bd3786\"],[0.5555555555555556,\"#d8576b\"],[0.6666666666666666,\"#ed7953\"],[0.7777777777777778,\"#fb9f3a\"],[0.8888888888888888,\"#fdca26\"],[1.0,\"#f0f921\"]],\"type\":\"heatmapgl\"}],\"histogram\":[{\"marker\":{\"pattern\":{\"fillmode\":\"overlay\",\"size\":10,\"solidity\":0.2}},\"type\":\"histogram\"}],\"histogram2d\":[{\"colorbar\":{\"outlinewidth\":0,\"ticks\":\"\"},\"colorscale\":[[0.0,\"#0d0887\"],[0.1111111111111111,\"#46039f\"],[0.2222222222222222,\"#7201a8\"],[0.3333333333333333,\"#9c179e\"],[0.4444444444444444,\"#bd3786\"],[0.5555555555555556,\"#d8576b\"],[0.6666666666666666,\"#ed7953\"],[0.7777777777777778,\"#fb9f3a\"],[0.8888888888888888,\"#fdca26\"],[1.0,\"#f0f921\"]],\"type\":\"histogram2d\"}],\"histogram2dcontour\":[{\"colorbar\":{\"outlinewidth\":0,\"ticks\":\"\"},\"colorscale\":[[0.0,\"#0d0887\"],[0.1111111111111111,\"#46039f\"],[0.2222222222222222,\"#7201a8\"],[0.3333333333333333,\"#9c179e\"],[0.4444444444444444,\"#bd3786\"],[0.5555555555555556,\"#d8576b\"],[0.6666666666666666,\"#ed7953\"],[0.7777777777777778,\"#fb9f3a\"],[0.8888888888888888,\"#fdca26\"],[1.0,\"#f0f921\"]],\"type\":\"histogram2dcontour\"}],\"mesh3d\":[{\"colorbar\":{\"outlinewidth\":0,\"ticks\":\"\"},\"type\":\"mesh3d\"}],\"parcoords\":[{\"line\":{\"colorbar\":{\"outlinewidth\":0,\"ticks\":\"\"}},\"type\":\"parcoords\"}],\"pie\":[{\"automargin\":true,\"type\":\"pie\"}],\"scatter\":[{\"marker\":{\"colorbar\":{\"outlinewidth\":0,\"ticks\":\"\"}},\"type\":\"scatter\"}],\"scatter3d\":[{\"line\":{\"colorbar\":{\"outlinewidth\":0,\"ticks\":\"\"}},\"marker\":{\"colorbar\":{\"outlinewidth\":0,\"ticks\":\"\"}},\"type\":\"scatter3d\"}],\"scattercarpet\":[{\"marker\":{\"colorbar\":{\"outlinewidth\":0,\"ticks\":\"\"}},\"type\":\"scattercarpet\"}],\"scattergeo\":[{\"marker\":{\"colorbar\":{\"outlinewidth\":0,\"ticks\":\"\"}},\"type\":\"scattergeo\"}],\"scattergl\":[{\"marker\":{\"colorbar\":{\"outlinewidth\":0,\"ticks\":\"\"}},\"type\":\"scattergl\"}],\"scattermapbox\":[{\"marker\":{\"colorbar\":{\"outlinewidth\":0,\"ticks\":\"\"}},\"type\":\"scattermapbox\"}],\"scatterpolar\":[{\"marker\":{\"colorbar\":{\"outlinewidth\":0,\"ticks\":\"\"}},\"type\":\"scatterpolar\"}],\"scatterpolargl\":[{\"marker\":{\"colorbar\":{\"outlinewidth\":0,\"ticks\":\"\"}},\"type\":\"scatterpolargl\"}],\"scatterternary\":[{\"marker\":{\"colorbar\":{\"outlinewidth\":0,\"ticks\":\"\"}},\"type\":\"scatterternary\"}],\"surface\":[{\"colorbar\":{\"outlinewidth\":0,\"ticks\":\"\"},\"colorscale\":[[0.0,\"#0d0887\"],[0.1111111111111111,\"#46039f\"],[0.2222222222222222,\"#7201a8\"],[0.3333333333333333,\"#9c179e\"],[0.4444444444444444,\"#bd3786\"],[0.5555555555555556,\"#d8576b\"],[0.6666666666666666,\"#ed7953\"],[0.7777777777777778,\"#fb9f3a\"],[0.8888888888888888,\"#fdca26\"],[1.0,\"#f0f921\"]],\"type\":\"surface\"}],\"table\":[{\"cells\":{\"fill\":{\"color\":\"#EBF0F8\"},\"line\":{\"color\":\"white\"}},\"header\":{\"fill\":{\"color\":\"#C8D4E3\"},\"line\":{\"color\":\"white\"}},\"type\":\"table\"}]},\"layout\":{\"annotationdefaults\":{\"arrowcolor\":\"#2a3f5f\",\"arrowhead\":0,\"arrowwidth\":1},\"autotypenumbers\":\"strict\",\"coloraxis\":{\"colorbar\":{\"outlinewidth\":0,\"ticks\":\"\"}},\"colorscale\":{\"diverging\":[[0,\"#8e0152\"],[0.1,\"#c51b7d\"],[0.2,\"#de77ae\"],[0.3,\"#f1b6da\"],[0.4,\"#fde0ef\"],[0.5,\"#f7f7f7\"],[0.6,\"#e6f5d0\"],[0.7,\"#b8e186\"],[0.8,\"#7fbc41\"],[0.9,\"#4d9221\"],[1,\"#276419\"]],\"sequential\":[[0.0,\"#0d0887\"],[0.1111111111111111,\"#46039f\"],[0.2222222222222222,\"#7201a8\"],[0.3333333333333333,\"#9c179e\"],[0.4444444444444444,\"#bd3786\"],[0.5555555555555556,\"#d8576b\"],[0.6666666666666666,\"#ed7953\"],[0.7777777777777778,\"#fb9f3a\"],[0.8888888888888888,\"#fdca26\"],[1.0,\"#f0f921\"]],\"sequentialminus\":[[0.0,\"#0d0887\"],[0.1111111111111111,\"#46039f\"],[0.2222222222222222,\"#7201a8\"],[0.3333333333333333,\"#9c179e\"],[0.4444444444444444,\"#bd3786\"],[0.5555555555555556,\"#d8576b\"],[0.6666666666666666,\"#ed7953\"],[0.7777777777777778,\"#fb9f3a\"],[0.8888888888888888,\"#fdca26\"],[1.0,\"#f0f921\"]]},\"colorway\":[\"#636efa\",\"#EF553B\",\"#00cc96\",\"#ab63fa\",\"#FFA15A\",\"#19d3f3\",\"#FF6692\",\"#B6E880\",\"#FF97FF\",\"#FECB52\"],\"font\":{\"color\":\"#2a3f5f\"},\"geo\":{\"bgcolor\":\"white\",\"lakecolor\":\"white\",\"landcolor\":\"#E5ECF6\",\"showlakes\":true,\"showland\":true,\"subunitcolor\":\"white\"},\"hoverlabel\":{\"align\":\"left\"},\"hovermode\":\"closest\",\"mapbox\":{\"style\":\"light\"},\"paper_bgcolor\":\"white\",\"plot_bgcolor\":\"#E5ECF6\",\"polar\":{\"angularaxis\":{\"gridcolor\":\"white\",\"linecolor\":\"white\",\"ticks\":\"\"},\"bgcolor\":\"#E5ECF6\",\"radialaxis\":{\"gridcolor\":\"white\",\"linecolor\":\"white\",\"ticks\":\"\"}},\"scene\":{\"xaxis\":{\"backgroundcolor\":\"#E5ECF6\",\"gridcolor\":\"white\",\"gridwidth\":2,\"linecolor\":\"white\",\"showbackground\":true,\"ticks\":\"\",\"zerolinecolor\":\"white\"},\"yaxis\":{\"backgroundcolor\":\"#E5ECF6\",\"gridcolor\":\"white\",\"gridwidth\":2,\"linecolor\":\"white\",\"showbackground\":true,\"ticks\":\"\",\"zerolinecolor\":\"white\"},\"zaxis\":{\"backgroundcolor\":\"#E5ECF6\",\"gridcolor\":\"white\",\"gridwidth\":2,\"linecolor\":\"white\",\"showbackground\":true,\"ticks\":\"\",\"zerolinecolor\":\"white\"}},\"shapedefaults\":{\"line\":{\"color\":\"#2a3f5f\"}},\"ternary\":{\"aaxis\":{\"gridcolor\":\"white\",\"linecolor\":\"white\",\"ticks\":\"\"},\"baxis\":{\"gridcolor\":\"white\",\"linecolor\":\"white\",\"ticks\":\"\"},\"bgcolor\":\"#E5ECF6\",\"caxis\":{\"gridcolor\":\"white\",\"linecolor\":\"white\",\"ticks\":\"\"}},\"title\":{\"x\":0.05},\"xaxis\":{\"automargin\":true,\"gridcolor\":\"white\",\"linecolor\":\"white\",\"ticks\":\"\",\"title\":{\"standoff\":15},\"zerolinecolor\":\"white\",\"zerolinewidth\":2},\"yaxis\":{\"automargin\":true,\"gridcolor\":\"white\",\"linecolor\":\"white\",\"ticks\":\"\",\"title\":{\"standoff\":15},\"zerolinecolor\":\"white\",\"zerolinewidth\":2}}},\"polar\":{\"domain\":{\"x\":[0.0,1.0],\"y\":[0.0,1.0]},\"angularaxis\":{\"direction\":\"clockwise\",\"rotation\":90}},\"legend\":{\"tracegroupgap\":0},\"margin\":{\"t\":60}},                        {\"responsive\": true}                    ).then(function(){\n",
              "                            \n",
              "var gd = document.getElementById('c60f1c11-22f0-48da-83bc-44a8e2116799');\n",
              "var x = new MutationObserver(function (mutations, observer) {{\n",
              "        var display = window.getComputedStyle(gd).display;\n",
              "        if (!display || display === 'none') {{\n",
              "            console.log([gd, 'removed!']);\n",
              "            Plotly.purge(gd);\n",
              "            observer.disconnect();\n",
              "        }}\n",
              "}});\n",
              "\n",
              "// Listen for the removal of the full notebook cells\n",
              "var notebookContainer = gd.closest('#notebook-container');\n",
              "if (notebookContainer) {{\n",
              "    x.observe(notebookContainer, {childList: true});\n",
              "}}\n",
              "\n",
              "// Listen for the clearing of the current output cell\n",
              "var outputEl = gd.closest('.output');\n",
              "if (outputEl) {{\n",
              "    x.observe(outputEl, {childList: true});\n",
              "}}\n",
              "\n",
              "                        })                };                            </script>        </div>\n",
              "</body>\n",
              "</html>"
            ]
          },
          "metadata": {}
        }
      ]
    },
    {
      "cell_type": "markdown",
      "source": [
        "# Feature Engineering"
      ],
      "metadata": {
        "id": "xOSoN8i_jI9D"
      }
    },
    {
      "cell_type": "markdown",
      "source": [
        "Importing"
      ],
      "metadata": {
        "id": "NwZL6MIgunGa"
      }
    },
    {
      "cell_type": "code",
      "source": [
        "#tables and visualizations\n",
        "import pandas as pd\n",
        "import numpy as np\n",
        "import seaborn as sns\n",
        "import matplotlib.pyplot as plt\n",
        "\n",
        "#machine learning\n",
        "from sklearn.ensemble import GradientBoostingClassifier, RandomTreesEmbedding #Gradient Model\n",
        "from sklearn.model_selection import train_test_split, GridSearchCV\n",
        "from sklearn.linear_model import LogisticRegression\n",
        "from sklearn.ensemble import RandomForestClassifier\n",
        "from sklearn.pipeline import Pipeline \n",
        "from sklearn.compose import ColumnTransformer, make_column_selector\n",
        "from sklearn.impute import SimpleImputer\n",
        "from sklearn.preprocessing import OneHotEncoder, LabelBinarizer, StandardScaler\n",
        "from sklearn import config_context\n",
        "from sklearn.metrics import classification_report, confusion_matrix, ConfusionMatrixDisplay"
      ],
      "metadata": {
        "id": "4jkaoVcVj0fb"
      },
      "execution_count": 153,
      "outputs": []
    },
    {
      "cell_type": "markdown",
      "source": [
        "To flesh out features for this model. I condolidated a players table from https://www.kaggle.com/code/samlow1/season-stats/data which listed season stats for every player since 1950. I used a separate list of Hall of Fame players. In the players table I added a boolean column for hall of fame status. Yes if they are in the hall, no if they're not.\n",
        "\n",
        "There are 51 columns inclunding the class_column (HOF).\n",
        "\n",
        "There are 24691 records overall to test and train with."
      ],
      "metadata": {
        "id": "UIN938_Quv09"
      }
    },
    {
      "cell_type": "code",
      "source": [
        "path=\"/content/drive/MyDrive/csv/seasons_stats.csv\";\n",
        "hof_df=pd.read_csv(path)\n",
        "# dropping some columns for performance\n",
        "hof_df=hof_df.drop(['Player' ,'ORB%', 'DRB%', 'TRB%', 'OWS', 'OWS', 'WS', 'WS/48', 'OBPM', 'DBPM', 'BPM', 'VORP', 'ORB%', 'DRB%', 'TRB%','AST%', 'STL%', 'MP', 'PER', 'TS%', '3PAr', 'TOV%', 'USG%', 'Age', 'PF'], axis=1)\n",
        "display(hof_df.head())\n",
        "hof_df.info()"
      ],
      "metadata": {
        "colab": {
          "base_uri": "https://localhost:8080/",
          "height": 960
        },
        "id": "chIT2nDvkATC",
        "outputId": "b150f676-8d1c-441f-cad1-e82333f37088"
      },
      "execution_count": 223,
      "outputs": [
        {
          "output_type": "display_data",
          "data": {
            "text/plain": [
              "     Year HOF Pos   Tm     G    GS    FTr  BLK%  DWS     FG  ...    FTA  \\\n",
              "0  1986.0  No  PF  LAL  82.0   1.0  0.430   1.7  2.0  209.0  ...  167.0   \n",
              "1  1987.0  No  PF  LAL  79.0  72.0  0.480   2.0  3.3  316.0  ...  282.0   \n",
              "2  1988.0  No  PF  LAL  82.0  64.0  0.592   1.0  3.4  322.0  ...  379.0   \n",
              "3  1989.0  No  PF  LAL  82.0  82.0  0.474   1.2  3.5  401.0  ...  359.0   \n",
              "4  1990.0  No  PF  LAL  82.0  82.0  0.459   1.1  3.3  385.0  ...  370.0   \n",
              "\n",
              "     FT%    ORB    DRB    TRB    AST   STL   BLK    TOV     PTS  \n",
              "0  0.611  160.0  221.0  381.0   54.0  49.0  49.0   99.0   521.0  \n",
              "1  0.780  210.0  405.0  615.0   84.0  70.0  80.0  102.0   852.0  \n",
              "2  0.773  245.0  465.0  710.0   93.0  87.0  45.0  120.0   937.0  \n",
              "3  0.786  258.0  481.0  739.0  103.0  94.0  55.0  119.0  1088.0  \n",
              "4  0.751  262.0  450.0  712.0   90.0  66.0  50.0  116.0  1061.0  \n",
              "\n",
              "[5 rows x 30 columns]"
            ],
            "text/html": [
              "\n",
              "  <div id=\"df-f1d51c8a-eb25-4ee9-8f79-8c69b2bd0d2e\">\n",
              "    <div class=\"colab-df-container\">\n",
              "      <div>\n",
              "<style scoped>\n",
              "    .dataframe tbody tr th:only-of-type {\n",
              "        vertical-align: middle;\n",
              "    }\n",
              "\n",
              "    .dataframe tbody tr th {\n",
              "        vertical-align: top;\n",
              "    }\n",
              "\n",
              "    .dataframe thead th {\n",
              "        text-align: right;\n",
              "    }\n",
              "</style>\n",
              "<table border=\"1\" class=\"dataframe\">\n",
              "  <thead>\n",
              "    <tr style=\"text-align: right;\">\n",
              "      <th></th>\n",
              "      <th>Year</th>\n",
              "      <th>HOF</th>\n",
              "      <th>Pos</th>\n",
              "      <th>Tm</th>\n",
              "      <th>G</th>\n",
              "      <th>GS</th>\n",
              "      <th>FTr</th>\n",
              "      <th>BLK%</th>\n",
              "      <th>DWS</th>\n",
              "      <th>FG</th>\n",
              "      <th>...</th>\n",
              "      <th>FTA</th>\n",
              "      <th>FT%</th>\n",
              "      <th>ORB</th>\n",
              "      <th>DRB</th>\n",
              "      <th>TRB</th>\n",
              "      <th>AST</th>\n",
              "      <th>STL</th>\n",
              "      <th>BLK</th>\n",
              "      <th>TOV</th>\n",
              "      <th>PTS</th>\n",
              "    </tr>\n",
              "  </thead>\n",
              "  <tbody>\n",
              "    <tr>\n",
              "      <th>0</th>\n",
              "      <td>1986.0</td>\n",
              "      <td>No</td>\n",
              "      <td>PF</td>\n",
              "      <td>LAL</td>\n",
              "      <td>82.0</td>\n",
              "      <td>1.0</td>\n",
              "      <td>0.430</td>\n",
              "      <td>1.7</td>\n",
              "      <td>2.0</td>\n",
              "      <td>209.0</td>\n",
              "      <td>...</td>\n",
              "      <td>167.0</td>\n",
              "      <td>0.611</td>\n",
              "      <td>160.0</td>\n",
              "      <td>221.0</td>\n",
              "      <td>381.0</td>\n",
              "      <td>54.0</td>\n",
              "      <td>49.0</td>\n",
              "      <td>49.0</td>\n",
              "      <td>99.0</td>\n",
              "      <td>521.0</td>\n",
              "    </tr>\n",
              "    <tr>\n",
              "      <th>1</th>\n",
              "      <td>1987.0</td>\n",
              "      <td>No</td>\n",
              "      <td>PF</td>\n",
              "      <td>LAL</td>\n",
              "      <td>79.0</td>\n",
              "      <td>72.0</td>\n",
              "      <td>0.480</td>\n",
              "      <td>2.0</td>\n",
              "      <td>3.3</td>\n",
              "      <td>316.0</td>\n",
              "      <td>...</td>\n",
              "      <td>282.0</td>\n",
              "      <td>0.780</td>\n",
              "      <td>210.0</td>\n",
              "      <td>405.0</td>\n",
              "      <td>615.0</td>\n",
              "      <td>84.0</td>\n",
              "      <td>70.0</td>\n",
              "      <td>80.0</td>\n",
              "      <td>102.0</td>\n",
              "      <td>852.0</td>\n",
              "    </tr>\n",
              "    <tr>\n",
              "      <th>2</th>\n",
              "      <td>1988.0</td>\n",
              "      <td>No</td>\n",
              "      <td>PF</td>\n",
              "      <td>LAL</td>\n",
              "      <td>82.0</td>\n",
              "      <td>64.0</td>\n",
              "      <td>0.592</td>\n",
              "      <td>1.0</td>\n",
              "      <td>3.4</td>\n",
              "      <td>322.0</td>\n",
              "      <td>...</td>\n",
              "      <td>379.0</td>\n",
              "      <td>0.773</td>\n",
              "      <td>245.0</td>\n",
              "      <td>465.0</td>\n",
              "      <td>710.0</td>\n",
              "      <td>93.0</td>\n",
              "      <td>87.0</td>\n",
              "      <td>45.0</td>\n",
              "      <td>120.0</td>\n",
              "      <td>937.0</td>\n",
              "    </tr>\n",
              "    <tr>\n",
              "      <th>3</th>\n",
              "      <td>1989.0</td>\n",
              "      <td>No</td>\n",
              "      <td>PF</td>\n",
              "      <td>LAL</td>\n",
              "      <td>82.0</td>\n",
              "      <td>82.0</td>\n",
              "      <td>0.474</td>\n",
              "      <td>1.2</td>\n",
              "      <td>3.5</td>\n",
              "      <td>401.0</td>\n",
              "      <td>...</td>\n",
              "      <td>359.0</td>\n",
              "      <td>0.786</td>\n",
              "      <td>258.0</td>\n",
              "      <td>481.0</td>\n",
              "      <td>739.0</td>\n",
              "      <td>103.0</td>\n",
              "      <td>94.0</td>\n",
              "      <td>55.0</td>\n",
              "      <td>119.0</td>\n",
              "      <td>1088.0</td>\n",
              "    </tr>\n",
              "    <tr>\n",
              "      <th>4</th>\n",
              "      <td>1990.0</td>\n",
              "      <td>No</td>\n",
              "      <td>PF</td>\n",
              "      <td>LAL</td>\n",
              "      <td>82.0</td>\n",
              "      <td>82.0</td>\n",
              "      <td>0.459</td>\n",
              "      <td>1.1</td>\n",
              "      <td>3.3</td>\n",
              "      <td>385.0</td>\n",
              "      <td>...</td>\n",
              "      <td>370.0</td>\n",
              "      <td>0.751</td>\n",
              "      <td>262.0</td>\n",
              "      <td>450.0</td>\n",
              "      <td>712.0</td>\n",
              "      <td>90.0</td>\n",
              "      <td>66.0</td>\n",
              "      <td>50.0</td>\n",
              "      <td>116.0</td>\n",
              "      <td>1061.0</td>\n",
              "    </tr>\n",
              "  </tbody>\n",
              "</table>\n",
              "<p>5 rows × 30 columns</p>\n",
              "</div>\n",
              "      <button class=\"colab-df-convert\" onclick=\"convertToInteractive('df-f1d51c8a-eb25-4ee9-8f79-8c69b2bd0d2e')\"\n",
              "              title=\"Convert this dataframe to an interactive table.\"\n",
              "              style=\"display:none;\">\n",
              "        \n",
              "  <svg xmlns=\"http://www.w3.org/2000/svg\" height=\"24px\"viewBox=\"0 0 24 24\"\n",
              "       width=\"24px\">\n",
              "    <path d=\"M0 0h24v24H0V0z\" fill=\"none\"/>\n",
              "    <path d=\"M18.56 5.44l.94 2.06.94-2.06 2.06-.94-2.06-.94-.94-2.06-.94 2.06-2.06.94zm-11 1L8.5 8.5l.94-2.06 2.06-.94-2.06-.94L8.5 2.5l-.94 2.06-2.06.94zm10 10l.94 2.06.94-2.06 2.06-.94-2.06-.94-.94-2.06-.94 2.06-2.06.94z\"/><path d=\"M17.41 7.96l-1.37-1.37c-.4-.4-.92-.59-1.43-.59-.52 0-1.04.2-1.43.59L10.3 9.45l-7.72 7.72c-.78.78-.78 2.05 0 2.83L4 21.41c.39.39.9.59 1.41.59.51 0 1.02-.2 1.41-.59l7.78-7.78 2.81-2.81c.8-.78.8-2.07 0-2.86zM5.41 20L4 18.59l7.72-7.72 1.47 1.35L5.41 20z\"/>\n",
              "  </svg>\n",
              "      </button>\n",
              "      \n",
              "  <style>\n",
              "    .colab-df-container {\n",
              "      display:flex;\n",
              "      flex-wrap:wrap;\n",
              "      gap: 12px;\n",
              "    }\n",
              "\n",
              "    .colab-df-convert {\n",
              "      background-color: #E8F0FE;\n",
              "      border: none;\n",
              "      border-radius: 50%;\n",
              "      cursor: pointer;\n",
              "      display: none;\n",
              "      fill: #1967D2;\n",
              "      height: 32px;\n",
              "      padding: 0 0 0 0;\n",
              "      width: 32px;\n",
              "    }\n",
              "\n",
              "    .colab-df-convert:hover {\n",
              "      background-color: #E2EBFA;\n",
              "      box-shadow: 0px 1px 2px rgba(60, 64, 67, 0.3), 0px 1px 3px 1px rgba(60, 64, 67, 0.15);\n",
              "      fill: #174EA6;\n",
              "    }\n",
              "\n",
              "    [theme=dark] .colab-df-convert {\n",
              "      background-color: #3B4455;\n",
              "      fill: #D2E3FC;\n",
              "    }\n",
              "\n",
              "    [theme=dark] .colab-df-convert:hover {\n",
              "      background-color: #434B5C;\n",
              "      box-shadow: 0px 1px 3px 1px rgba(0, 0, 0, 0.15);\n",
              "      filter: drop-shadow(0px 1px 2px rgba(0, 0, 0, 0.3));\n",
              "      fill: #FFFFFF;\n",
              "    }\n",
              "  </style>\n",
              "\n",
              "      <script>\n",
              "        const buttonEl =\n",
              "          document.querySelector('#df-f1d51c8a-eb25-4ee9-8f79-8c69b2bd0d2e button.colab-df-convert');\n",
              "        buttonEl.style.display =\n",
              "          google.colab.kernel.accessAllowed ? 'block' : 'none';\n",
              "\n",
              "        async function convertToInteractive(key) {\n",
              "          const element = document.querySelector('#df-f1d51c8a-eb25-4ee9-8f79-8c69b2bd0d2e');\n",
              "          const dataTable =\n",
              "            await google.colab.kernel.invokeFunction('convertToInteractive',\n",
              "                                                     [key], {});\n",
              "          if (!dataTable) return;\n",
              "\n",
              "          const docLinkHtml = 'Like what you see? Visit the ' +\n",
              "            '<a target=\"_blank\" href=https://colab.research.google.com/notebooks/data_table.ipynb>data table notebook</a>'\n",
              "            + ' to learn more about interactive tables.';\n",
              "          element.innerHTML = '';\n",
              "          dataTable['output_type'] = 'display_data';\n",
              "          await google.colab.output.renderOutput(dataTable, element);\n",
              "          const docLink = document.createElement('div');\n",
              "          docLink.innerHTML = docLinkHtml;\n",
              "          element.appendChild(docLink);\n",
              "        }\n",
              "      </script>\n",
              "    </div>\n",
              "  </div>\n",
              "  "
            ]
          },
          "metadata": {}
        },
        {
          "output_type": "stream",
          "name": "stdout",
          "text": [
            "<class 'pandas.core.frame.DataFrame'>\n",
            "RangeIndex: 24691 entries, 0 to 24690\n",
            "Data columns (total 30 columns):\n",
            " #   Column  Non-Null Count  Dtype  \n",
            "---  ------  --------------  -----  \n",
            " 0   Year    24624 non-null  float64\n",
            " 1   HOF     24679 non-null  object \n",
            " 2   Pos     24624 non-null  object \n",
            " 3   Tm      24624 non-null  object \n",
            " 4   G       24624 non-null  float64\n",
            " 5   GS      18234 non-null  float64\n",
            " 6   FTr     24525 non-null  float64\n",
            " 7   BLK%    20792 non-null  float64\n",
            " 8   DWS     24585 non-null  float64\n",
            " 9   FG      24624 non-null  float64\n",
            " 10  FGA     24624 non-null  float64\n",
            " 11  FG%     24525 non-null  float64\n",
            " 12  3P      18928 non-null  float64\n",
            " 13  3PA     18928 non-null  float64\n",
            " 14  3P%     15417 non-null  float64\n",
            " 15  2P      24624 non-null  float64\n",
            " 16  2PA     24624 non-null  float64\n",
            " 17  2P%     24496 non-null  float64\n",
            " 18  eFG%    24525 non-null  float64\n",
            " 19  FT      24624 non-null  float64\n",
            " 20  FTA     24624 non-null  float64\n",
            " 21  FT%     23766 non-null  float64\n",
            " 22  ORB     20797 non-null  float64\n",
            " 23  DRB     20797 non-null  float64\n",
            " 24  TRB     24312 non-null  float64\n",
            " 25  AST     24624 non-null  float64\n",
            " 26  STL     20797 non-null  float64\n",
            " 27  BLK     20797 non-null  float64\n",
            " 28  TOV     19646 non-null  float64\n",
            " 29  PTS     24624 non-null  float64\n",
            "dtypes: float64(27), object(3)\n",
            "memory usage: 5.7+ MB\n"
          ]
        }
      ]
    },
    {
      "cell_type": "code",
      "source": [
        "hof_df.isna().sum()"
      ],
      "metadata": {
        "colab": {
          "base_uri": "https://localhost:8080/"
        },
        "id": "dOESR7ZxnplH",
        "outputId": "6733545f-bf47-41c4-a9c4-0666e2d72d23"
      },
      "execution_count": 224,
      "outputs": [
        {
          "output_type": "execute_result",
          "data": {
            "text/plain": [
              "Year      67\n",
              "HOF       12\n",
              "Pos       67\n",
              "Tm        67\n",
              "G         67\n",
              "GS      6457\n",
              "FTr      166\n",
              "BLK%    3899\n",
              "DWS      106\n",
              "FG        67\n",
              "FGA       67\n",
              "FG%      166\n",
              "3P      5763\n",
              "3PA     5763\n",
              "3P%     9274\n",
              "2P        67\n",
              "2PA       67\n",
              "2P%      195\n",
              "eFG%     166\n",
              "FT        67\n",
              "FTA       67\n",
              "FT%      925\n",
              "ORB     3894\n",
              "DRB     3894\n",
              "TRB      379\n",
              "AST       67\n",
              "STL     3894\n",
              "BLK     3894\n",
              "TOV     5045\n",
              "PTS       67\n",
              "dtype: int64"
            ]
          },
          "metadata": {},
          "execution_count": 224
        }
      ]
    },
    {
      "cell_type": "markdown",
      "source": [
        "# Data Cleaning and EDA"
      ],
      "metadata": {
        "id": "2EGbQ-hUlqTG"
      }
    },
    {
      "cell_type": "code",
      "source": [
        "hof_df = hof_df.dropna(subset=['HOF'])\n",
        "hof_df.shape"
      ],
      "metadata": {
        "colab": {
          "base_uri": "https://localhost:8080/"
        },
        "id": "YUBjYVC1lwjm",
        "outputId": "b1aaa220-a6d3-44e4-9693-235ed398b774"
      },
      "execution_count": 225,
      "outputs": [
        {
          "output_type": "execute_result",
          "data": {
            "text/plain": [
              "(24679, 30)"
            ]
          },
          "metadata": {},
          "execution_count": 225
        }
      ]
    },
    {
      "cell_type": "code",
      "source": [
        "class_column = 'HOF'\n",
        "random_seed = 1000\n",
        "\n",
        "X_train, X_test, y_train, y_test = train_test_split(hof_df.drop(columns=class_column), hof_df[class_column],\n",
        "                                                   test_size=0.20, random_state=random_seed, stratify=hof_df[class_column])"
      ],
      "metadata": {
        "id": "URhG-F0-nOU2"
      },
      "execution_count": 226,
      "outputs": []
    },
    {
      "cell_type": "markdown",
      "source": [
        "# Sanity Check"
      ],
      "metadata": {
        "id": "5gFpFW20mpB5"
      }
    },
    {
      "cell_type": "code",
      "source": [
        "# X Train\n",
        "print('On X train: ')\n",
        "print('X train dimensions: ', X_train.shape)\n",
        "display(X_train.head())\n",
        "\n",
        "# X test\n",
        "print('\\nOn X test: ')\n",
        "print('X test dimensions: ', X_test.shape)\n",
        "display(X_test.head())"
      ],
      "metadata": {
        "colab": {
          "base_uri": "https://localhost:8080/",
          "height": 607
        },
        "id": "l0n44GXKmm-H",
        "outputId": "251ad148-3185-40f6-c103-605d83475748"
      },
      "execution_count": 227,
      "outputs": [
        {
          "output_type": "stream",
          "name": "stdout",
          "text": [
            "On X train: \n",
            "X train dimensions:  (19743, 29)\n"
          ]
        },
        {
          "output_type": "display_data",
          "data": {
            "text/plain": [
              "         Year Pos   Tm     G    GS    FTr  BLK%  DWS     FG    FGA  ...  \\\n",
              "7696   1985.0   C  NYK  54.0  16.0  0.524   1.1  1.0  116.0  233.0  ...   \n",
              "15847  2015.0  SG  TOT  48.0   0.0  0.162   0.8  0.7  140.0  345.0  ...   \n",
              "19403  1999.0  SG  MIN  27.0   1.0  0.704   1.3  0.3   15.0   54.0  ...   \n",
              "19231  1954.0   C  BLB  72.0   NaN  0.716   NaN  1.0  410.0  983.0  ...   \n",
              "6991   1954.0  SG  MLH  68.0   NaN  0.451   NaN  1.7  254.0  748.0  ...   \n",
              "\n",
              "         FTA    FT%   ORB    DRB    TRB    AST   STL   BLK   TOV     PTS  \n",
              "7696   122.0  0.541  86.0  176.0  262.0   16.0  21.0  16.0  64.0   298.0  \n",
              "15847   56.0  0.821  23.0   63.0   86.0   36.0  27.0   7.0  27.0   380.0  \n",
              "19403   38.0  0.553  27.0   32.0   59.0   41.0  12.0   5.0  14.0    51.0  \n",
              "19231  704.0  0.638   NaN    NaN  958.0   82.0   NaN   NaN   NaN  1269.0  \n",
              "6991   337.0  0.748   NaN    NaN  225.0  187.0   NaN   NaN   NaN   760.0  \n",
              "\n",
              "[5 rows x 29 columns]"
            ],
            "text/html": [
              "\n",
              "  <div id=\"df-53926a11-0eb4-4bd6-8e71-61a8cf2fe9bf\">\n",
              "    <div class=\"colab-df-container\">\n",
              "      <div>\n",
              "<style scoped>\n",
              "    .dataframe tbody tr th:only-of-type {\n",
              "        vertical-align: middle;\n",
              "    }\n",
              "\n",
              "    .dataframe tbody tr th {\n",
              "        vertical-align: top;\n",
              "    }\n",
              "\n",
              "    .dataframe thead th {\n",
              "        text-align: right;\n",
              "    }\n",
              "</style>\n",
              "<table border=\"1\" class=\"dataframe\">\n",
              "  <thead>\n",
              "    <tr style=\"text-align: right;\">\n",
              "      <th></th>\n",
              "      <th>Year</th>\n",
              "      <th>Pos</th>\n",
              "      <th>Tm</th>\n",
              "      <th>G</th>\n",
              "      <th>GS</th>\n",
              "      <th>FTr</th>\n",
              "      <th>BLK%</th>\n",
              "      <th>DWS</th>\n",
              "      <th>FG</th>\n",
              "      <th>FGA</th>\n",
              "      <th>...</th>\n",
              "      <th>FTA</th>\n",
              "      <th>FT%</th>\n",
              "      <th>ORB</th>\n",
              "      <th>DRB</th>\n",
              "      <th>TRB</th>\n",
              "      <th>AST</th>\n",
              "      <th>STL</th>\n",
              "      <th>BLK</th>\n",
              "      <th>TOV</th>\n",
              "      <th>PTS</th>\n",
              "    </tr>\n",
              "  </thead>\n",
              "  <tbody>\n",
              "    <tr>\n",
              "      <th>7696</th>\n",
              "      <td>1985.0</td>\n",
              "      <td>C</td>\n",
              "      <td>NYK</td>\n",
              "      <td>54.0</td>\n",
              "      <td>16.0</td>\n",
              "      <td>0.524</td>\n",
              "      <td>1.1</td>\n",
              "      <td>1.0</td>\n",
              "      <td>116.0</td>\n",
              "      <td>233.0</td>\n",
              "      <td>...</td>\n",
              "      <td>122.0</td>\n",
              "      <td>0.541</td>\n",
              "      <td>86.0</td>\n",
              "      <td>176.0</td>\n",
              "      <td>262.0</td>\n",
              "      <td>16.0</td>\n",
              "      <td>21.0</td>\n",
              "      <td>16.0</td>\n",
              "      <td>64.0</td>\n",
              "      <td>298.0</td>\n",
              "    </tr>\n",
              "    <tr>\n",
              "      <th>15847</th>\n",
              "      <td>2015.0</td>\n",
              "      <td>SG</td>\n",
              "      <td>TOT</td>\n",
              "      <td>48.0</td>\n",
              "      <td>0.0</td>\n",
              "      <td>0.162</td>\n",
              "      <td>0.8</td>\n",
              "      <td>0.7</td>\n",
              "      <td>140.0</td>\n",
              "      <td>345.0</td>\n",
              "      <td>...</td>\n",
              "      <td>56.0</td>\n",
              "      <td>0.821</td>\n",
              "      <td>23.0</td>\n",
              "      <td>63.0</td>\n",
              "      <td>86.0</td>\n",
              "      <td>36.0</td>\n",
              "      <td>27.0</td>\n",
              "      <td>7.0</td>\n",
              "      <td>27.0</td>\n",
              "      <td>380.0</td>\n",
              "    </tr>\n",
              "    <tr>\n",
              "      <th>19403</th>\n",
              "      <td>1999.0</td>\n",
              "      <td>SG</td>\n",
              "      <td>MIN</td>\n",
              "      <td>27.0</td>\n",
              "      <td>1.0</td>\n",
              "      <td>0.704</td>\n",
              "      <td>1.3</td>\n",
              "      <td>0.3</td>\n",
              "      <td>15.0</td>\n",
              "      <td>54.0</td>\n",
              "      <td>...</td>\n",
              "      <td>38.0</td>\n",
              "      <td>0.553</td>\n",
              "      <td>27.0</td>\n",
              "      <td>32.0</td>\n",
              "      <td>59.0</td>\n",
              "      <td>41.0</td>\n",
              "      <td>12.0</td>\n",
              "      <td>5.0</td>\n",
              "      <td>14.0</td>\n",
              "      <td>51.0</td>\n",
              "    </tr>\n",
              "    <tr>\n",
              "      <th>19231</th>\n",
              "      <td>1954.0</td>\n",
              "      <td>C</td>\n",
              "      <td>BLB</td>\n",
              "      <td>72.0</td>\n",
              "      <td>NaN</td>\n",
              "      <td>0.716</td>\n",
              "      <td>NaN</td>\n",
              "      <td>1.0</td>\n",
              "      <td>410.0</td>\n",
              "      <td>983.0</td>\n",
              "      <td>...</td>\n",
              "      <td>704.0</td>\n",
              "      <td>0.638</td>\n",
              "      <td>NaN</td>\n",
              "      <td>NaN</td>\n",
              "      <td>958.0</td>\n",
              "      <td>82.0</td>\n",
              "      <td>NaN</td>\n",
              "      <td>NaN</td>\n",
              "      <td>NaN</td>\n",
              "      <td>1269.0</td>\n",
              "    </tr>\n",
              "    <tr>\n",
              "      <th>6991</th>\n",
              "      <td>1954.0</td>\n",
              "      <td>SG</td>\n",
              "      <td>MLH</td>\n",
              "      <td>68.0</td>\n",
              "      <td>NaN</td>\n",
              "      <td>0.451</td>\n",
              "      <td>NaN</td>\n",
              "      <td>1.7</td>\n",
              "      <td>254.0</td>\n",
              "      <td>748.0</td>\n",
              "      <td>...</td>\n",
              "      <td>337.0</td>\n",
              "      <td>0.748</td>\n",
              "      <td>NaN</td>\n",
              "      <td>NaN</td>\n",
              "      <td>225.0</td>\n",
              "      <td>187.0</td>\n",
              "      <td>NaN</td>\n",
              "      <td>NaN</td>\n",
              "      <td>NaN</td>\n",
              "      <td>760.0</td>\n",
              "    </tr>\n",
              "  </tbody>\n",
              "</table>\n",
              "<p>5 rows × 29 columns</p>\n",
              "</div>\n",
              "      <button class=\"colab-df-convert\" onclick=\"convertToInteractive('df-53926a11-0eb4-4bd6-8e71-61a8cf2fe9bf')\"\n",
              "              title=\"Convert this dataframe to an interactive table.\"\n",
              "              style=\"display:none;\">\n",
              "        \n",
              "  <svg xmlns=\"http://www.w3.org/2000/svg\" height=\"24px\"viewBox=\"0 0 24 24\"\n",
              "       width=\"24px\">\n",
              "    <path d=\"M0 0h24v24H0V0z\" fill=\"none\"/>\n",
              "    <path d=\"M18.56 5.44l.94 2.06.94-2.06 2.06-.94-2.06-.94-.94-2.06-.94 2.06-2.06.94zm-11 1L8.5 8.5l.94-2.06 2.06-.94-2.06-.94L8.5 2.5l-.94 2.06-2.06.94zm10 10l.94 2.06.94-2.06 2.06-.94-2.06-.94-.94-2.06-.94 2.06-2.06.94z\"/><path d=\"M17.41 7.96l-1.37-1.37c-.4-.4-.92-.59-1.43-.59-.52 0-1.04.2-1.43.59L10.3 9.45l-7.72 7.72c-.78.78-.78 2.05 0 2.83L4 21.41c.39.39.9.59 1.41.59.51 0 1.02-.2 1.41-.59l7.78-7.78 2.81-2.81c.8-.78.8-2.07 0-2.86zM5.41 20L4 18.59l7.72-7.72 1.47 1.35L5.41 20z\"/>\n",
              "  </svg>\n",
              "      </button>\n",
              "      \n",
              "  <style>\n",
              "    .colab-df-container {\n",
              "      display:flex;\n",
              "      flex-wrap:wrap;\n",
              "      gap: 12px;\n",
              "    }\n",
              "\n",
              "    .colab-df-convert {\n",
              "      background-color: #E8F0FE;\n",
              "      border: none;\n",
              "      border-radius: 50%;\n",
              "      cursor: pointer;\n",
              "      display: none;\n",
              "      fill: #1967D2;\n",
              "      height: 32px;\n",
              "      padding: 0 0 0 0;\n",
              "      width: 32px;\n",
              "    }\n",
              "\n",
              "    .colab-df-convert:hover {\n",
              "      background-color: #E2EBFA;\n",
              "      box-shadow: 0px 1px 2px rgba(60, 64, 67, 0.3), 0px 1px 3px 1px rgba(60, 64, 67, 0.15);\n",
              "      fill: #174EA6;\n",
              "    }\n",
              "\n",
              "    [theme=dark] .colab-df-convert {\n",
              "      background-color: #3B4455;\n",
              "      fill: #D2E3FC;\n",
              "    }\n",
              "\n",
              "    [theme=dark] .colab-df-convert:hover {\n",
              "      background-color: #434B5C;\n",
              "      box-shadow: 0px 1px 3px 1px rgba(0, 0, 0, 0.15);\n",
              "      filter: drop-shadow(0px 1px 2px rgba(0, 0, 0, 0.3));\n",
              "      fill: #FFFFFF;\n",
              "    }\n",
              "  </style>\n",
              "\n",
              "      <script>\n",
              "        const buttonEl =\n",
              "          document.querySelector('#df-53926a11-0eb4-4bd6-8e71-61a8cf2fe9bf button.colab-df-convert');\n",
              "        buttonEl.style.display =\n",
              "          google.colab.kernel.accessAllowed ? 'block' : 'none';\n",
              "\n",
              "        async function convertToInteractive(key) {\n",
              "          const element = document.querySelector('#df-53926a11-0eb4-4bd6-8e71-61a8cf2fe9bf');\n",
              "          const dataTable =\n",
              "            await google.colab.kernel.invokeFunction('convertToInteractive',\n",
              "                                                     [key], {});\n",
              "          if (!dataTable) return;\n",
              "\n",
              "          const docLinkHtml = 'Like what you see? Visit the ' +\n",
              "            '<a target=\"_blank\" href=https://colab.research.google.com/notebooks/data_table.ipynb>data table notebook</a>'\n",
              "            + ' to learn more about interactive tables.';\n",
              "          element.innerHTML = '';\n",
              "          dataTable['output_type'] = 'display_data';\n",
              "          await google.colab.output.renderOutput(dataTable, element);\n",
              "          const docLink = document.createElement('div');\n",
              "          docLink.innerHTML = docLinkHtml;\n",
              "          element.appendChild(docLink);\n",
              "        }\n",
              "      </script>\n",
              "    </div>\n",
              "  </div>\n",
              "  "
            ]
          },
          "metadata": {}
        },
        {
          "output_type": "stream",
          "name": "stdout",
          "text": [
            "\n",
            "On X test: \n",
            "X test dimensions:  (4936, 29)\n"
          ]
        },
        {
          "output_type": "display_data",
          "data": {
            "text/plain": [
              "        Year Pos   Tm     G    GS    FTr  BLK%  DWS     FG    FGA  ...    FTA  \\\n",
              "4240  2001.0  SF  GSW  20.0   8.0  0.264   1.9  0.2   36.0  106.0  ...   28.0   \n",
              "5041  2005.0  SG  MEM  52.0   7.0  0.337   1.3  0.6   83.0  190.0  ...   64.0   \n",
              "5746  1988.0  SG  PHI  22.0   1.0  0.405   0.9  0.2   47.0  116.0  ...   47.0   \n",
              "9057  1990.0  PG  DET  46.0   0.0  0.157   0.4  0.4   42.0   83.0  ...   13.0   \n",
              "8085  2004.0  PG  PHI  82.0  82.0  0.442   0.2  2.3  295.0  715.0  ...  316.0   \n",
              "\n",
              "        FT%   ORB    DRB    TRB    AST   STL   BLK    TOV    PTS  \n",
              "4240  0.857  10.0   31.0   41.0   19.0  16.0  10.0   19.0  115.0  \n",
              "5041  0.688  11.0   58.0   69.0   21.0  13.0  11.0   29.0  233.0  \n",
              "5746  0.681  11.0   24.0   35.0   34.0  12.0   5.0   40.0  126.0  \n",
              "9057  0.769   8.0   23.0   31.0   61.0   8.0   2.0   16.0  108.0  \n",
              "8085  0.797  62.0  219.0  281.0  563.0  97.0   6.0  187.0  844.0  \n",
              "\n",
              "[5 rows x 29 columns]"
            ],
            "text/html": [
              "\n",
              "  <div id=\"df-9b50572e-9d13-4bd8-a5bb-c8ed26ac48d0\">\n",
              "    <div class=\"colab-df-container\">\n",
              "      <div>\n",
              "<style scoped>\n",
              "    .dataframe tbody tr th:only-of-type {\n",
              "        vertical-align: middle;\n",
              "    }\n",
              "\n",
              "    .dataframe tbody tr th {\n",
              "        vertical-align: top;\n",
              "    }\n",
              "\n",
              "    .dataframe thead th {\n",
              "        text-align: right;\n",
              "    }\n",
              "</style>\n",
              "<table border=\"1\" class=\"dataframe\">\n",
              "  <thead>\n",
              "    <tr style=\"text-align: right;\">\n",
              "      <th></th>\n",
              "      <th>Year</th>\n",
              "      <th>Pos</th>\n",
              "      <th>Tm</th>\n",
              "      <th>G</th>\n",
              "      <th>GS</th>\n",
              "      <th>FTr</th>\n",
              "      <th>BLK%</th>\n",
              "      <th>DWS</th>\n",
              "      <th>FG</th>\n",
              "      <th>FGA</th>\n",
              "      <th>...</th>\n",
              "      <th>FTA</th>\n",
              "      <th>FT%</th>\n",
              "      <th>ORB</th>\n",
              "      <th>DRB</th>\n",
              "      <th>TRB</th>\n",
              "      <th>AST</th>\n",
              "      <th>STL</th>\n",
              "      <th>BLK</th>\n",
              "      <th>TOV</th>\n",
              "      <th>PTS</th>\n",
              "    </tr>\n",
              "  </thead>\n",
              "  <tbody>\n",
              "    <tr>\n",
              "      <th>4240</th>\n",
              "      <td>2001.0</td>\n",
              "      <td>SF</td>\n",
              "      <td>GSW</td>\n",
              "      <td>20.0</td>\n",
              "      <td>8.0</td>\n",
              "      <td>0.264</td>\n",
              "      <td>1.9</td>\n",
              "      <td>0.2</td>\n",
              "      <td>36.0</td>\n",
              "      <td>106.0</td>\n",
              "      <td>...</td>\n",
              "      <td>28.0</td>\n",
              "      <td>0.857</td>\n",
              "      <td>10.0</td>\n",
              "      <td>31.0</td>\n",
              "      <td>41.0</td>\n",
              "      <td>19.0</td>\n",
              "      <td>16.0</td>\n",
              "      <td>10.0</td>\n",
              "      <td>19.0</td>\n",
              "      <td>115.0</td>\n",
              "    </tr>\n",
              "    <tr>\n",
              "      <th>5041</th>\n",
              "      <td>2005.0</td>\n",
              "      <td>SG</td>\n",
              "      <td>MEM</td>\n",
              "      <td>52.0</td>\n",
              "      <td>7.0</td>\n",
              "      <td>0.337</td>\n",
              "      <td>1.3</td>\n",
              "      <td>0.6</td>\n",
              "      <td>83.0</td>\n",
              "      <td>190.0</td>\n",
              "      <td>...</td>\n",
              "      <td>64.0</td>\n",
              "      <td>0.688</td>\n",
              "      <td>11.0</td>\n",
              "      <td>58.0</td>\n",
              "      <td>69.0</td>\n",
              "      <td>21.0</td>\n",
              "      <td>13.0</td>\n",
              "      <td>11.0</td>\n",
              "      <td>29.0</td>\n",
              "      <td>233.0</td>\n",
              "    </tr>\n",
              "    <tr>\n",
              "      <th>5746</th>\n",
              "      <td>1988.0</td>\n",
              "      <td>SG</td>\n",
              "      <td>PHI</td>\n",
              "      <td>22.0</td>\n",
              "      <td>1.0</td>\n",
              "      <td>0.405</td>\n",
              "      <td>0.9</td>\n",
              "      <td>0.2</td>\n",
              "      <td>47.0</td>\n",
              "      <td>116.0</td>\n",
              "      <td>...</td>\n",
              "      <td>47.0</td>\n",
              "      <td>0.681</td>\n",
              "      <td>11.0</td>\n",
              "      <td>24.0</td>\n",
              "      <td>35.0</td>\n",
              "      <td>34.0</td>\n",
              "      <td>12.0</td>\n",
              "      <td>5.0</td>\n",
              "      <td>40.0</td>\n",
              "      <td>126.0</td>\n",
              "    </tr>\n",
              "    <tr>\n",
              "      <th>9057</th>\n",
              "      <td>1990.0</td>\n",
              "      <td>PG</td>\n",
              "      <td>DET</td>\n",
              "      <td>46.0</td>\n",
              "      <td>0.0</td>\n",
              "      <td>0.157</td>\n",
              "      <td>0.4</td>\n",
              "      <td>0.4</td>\n",
              "      <td>42.0</td>\n",
              "      <td>83.0</td>\n",
              "      <td>...</td>\n",
              "      <td>13.0</td>\n",
              "      <td>0.769</td>\n",
              "      <td>8.0</td>\n",
              "      <td>23.0</td>\n",
              "      <td>31.0</td>\n",
              "      <td>61.0</td>\n",
              "      <td>8.0</td>\n",
              "      <td>2.0</td>\n",
              "      <td>16.0</td>\n",
              "      <td>108.0</td>\n",
              "    </tr>\n",
              "    <tr>\n",
              "      <th>8085</th>\n",
              "      <td>2004.0</td>\n",
              "      <td>PG</td>\n",
              "      <td>PHI</td>\n",
              "      <td>82.0</td>\n",
              "      <td>82.0</td>\n",
              "      <td>0.442</td>\n",
              "      <td>0.2</td>\n",
              "      <td>2.3</td>\n",
              "      <td>295.0</td>\n",
              "      <td>715.0</td>\n",
              "      <td>...</td>\n",
              "      <td>316.0</td>\n",
              "      <td>0.797</td>\n",
              "      <td>62.0</td>\n",
              "      <td>219.0</td>\n",
              "      <td>281.0</td>\n",
              "      <td>563.0</td>\n",
              "      <td>97.0</td>\n",
              "      <td>6.0</td>\n",
              "      <td>187.0</td>\n",
              "      <td>844.0</td>\n",
              "    </tr>\n",
              "  </tbody>\n",
              "</table>\n",
              "<p>5 rows × 29 columns</p>\n",
              "</div>\n",
              "      <button class=\"colab-df-convert\" onclick=\"convertToInteractive('df-9b50572e-9d13-4bd8-a5bb-c8ed26ac48d0')\"\n",
              "              title=\"Convert this dataframe to an interactive table.\"\n",
              "              style=\"display:none;\">\n",
              "        \n",
              "  <svg xmlns=\"http://www.w3.org/2000/svg\" height=\"24px\"viewBox=\"0 0 24 24\"\n",
              "       width=\"24px\">\n",
              "    <path d=\"M0 0h24v24H0V0z\" fill=\"none\"/>\n",
              "    <path d=\"M18.56 5.44l.94 2.06.94-2.06 2.06-.94-2.06-.94-.94-2.06-.94 2.06-2.06.94zm-11 1L8.5 8.5l.94-2.06 2.06-.94-2.06-.94L8.5 2.5l-.94 2.06-2.06.94zm10 10l.94 2.06.94-2.06 2.06-.94-2.06-.94-.94-2.06-.94 2.06-2.06.94z\"/><path d=\"M17.41 7.96l-1.37-1.37c-.4-.4-.92-.59-1.43-.59-.52 0-1.04.2-1.43.59L10.3 9.45l-7.72 7.72c-.78.78-.78 2.05 0 2.83L4 21.41c.39.39.9.59 1.41.59.51 0 1.02-.2 1.41-.59l7.78-7.78 2.81-2.81c.8-.78.8-2.07 0-2.86zM5.41 20L4 18.59l7.72-7.72 1.47 1.35L5.41 20z\"/>\n",
              "  </svg>\n",
              "      </button>\n",
              "      \n",
              "  <style>\n",
              "    .colab-df-container {\n",
              "      display:flex;\n",
              "      flex-wrap:wrap;\n",
              "      gap: 12px;\n",
              "    }\n",
              "\n",
              "    .colab-df-convert {\n",
              "      background-color: #E8F0FE;\n",
              "      border: none;\n",
              "      border-radius: 50%;\n",
              "      cursor: pointer;\n",
              "      display: none;\n",
              "      fill: #1967D2;\n",
              "      height: 32px;\n",
              "      padding: 0 0 0 0;\n",
              "      width: 32px;\n",
              "    }\n",
              "\n",
              "    .colab-df-convert:hover {\n",
              "      background-color: #E2EBFA;\n",
              "      box-shadow: 0px 1px 2px rgba(60, 64, 67, 0.3), 0px 1px 3px 1px rgba(60, 64, 67, 0.15);\n",
              "      fill: #174EA6;\n",
              "    }\n",
              "\n",
              "    [theme=dark] .colab-df-convert {\n",
              "      background-color: #3B4455;\n",
              "      fill: #D2E3FC;\n",
              "    }\n",
              "\n",
              "    [theme=dark] .colab-df-convert:hover {\n",
              "      background-color: #434B5C;\n",
              "      box-shadow: 0px 1px 3px 1px rgba(0, 0, 0, 0.15);\n",
              "      filter: drop-shadow(0px 1px 2px rgba(0, 0, 0, 0.3));\n",
              "      fill: #FFFFFF;\n",
              "    }\n",
              "  </style>\n",
              "\n",
              "      <script>\n",
              "        const buttonEl =\n",
              "          document.querySelector('#df-9b50572e-9d13-4bd8-a5bb-c8ed26ac48d0 button.colab-df-convert');\n",
              "        buttonEl.style.display =\n",
              "          google.colab.kernel.accessAllowed ? 'block' : 'none';\n",
              "\n",
              "        async function convertToInteractive(key) {\n",
              "          const element = document.querySelector('#df-9b50572e-9d13-4bd8-a5bb-c8ed26ac48d0');\n",
              "          const dataTable =\n",
              "            await google.colab.kernel.invokeFunction('convertToInteractive',\n",
              "                                                     [key], {});\n",
              "          if (!dataTable) return;\n",
              "\n",
              "          const docLinkHtml = 'Like what you see? Visit the ' +\n",
              "            '<a target=\"_blank\" href=https://colab.research.google.com/notebooks/data_table.ipynb>data table notebook</a>'\n",
              "            + ' to learn more about interactive tables.';\n",
              "          element.innerHTML = '';\n",
              "          dataTable['output_type'] = 'display_data';\n",
              "          await google.colab.output.renderOutput(dataTable, element);\n",
              "          const docLink = document.createElement('div');\n",
              "          docLink.innerHTML = docLinkHtml;\n",
              "          element.appendChild(docLink);\n",
              "        }\n",
              "      </script>\n",
              "    </div>\n",
              "  </div>\n",
              "  "
            ]
          },
          "metadata": {}
        }
      ]
    },
    {
      "cell_type": "code",
      "source": [
        "# X Train\n",
        "print('On y train: ')\n",
        "print('y train dimensions: ', y_train.shape)\n",
        "display(y_train.head())\n",
        "\n",
        "# X test\n",
        "print('\\nOn y test: ')\n",
        "print('y test dimensions: ', y_test.shape)\n",
        "display(y_test.head())"
      ],
      "metadata": {
        "colab": {
          "base_uri": "https://localhost:8080/",
          "height": 321
        },
        "id": "IEPImGwxn91L",
        "outputId": "1e7a258d-4233-435e-e267-d4dafe23d6a8"
      },
      "execution_count": 228,
      "outputs": [
        {
          "output_type": "stream",
          "name": "stdout",
          "text": [
            "On y train: \n",
            "y train dimensions:  (19743,)\n"
          ]
        },
        {
          "output_type": "display_data",
          "data": {
            "text/plain": [
              "7696     No\n",
              "15847    No\n",
              "19403    No\n",
              "19231    No\n",
              "6991     No\n",
              "Name: HOF, dtype: object"
            ]
          },
          "metadata": {}
        },
        {
          "output_type": "stream",
          "name": "stdout",
          "text": [
            "\n",
            "On y test: \n",
            "y test dimensions:  (4936,)\n"
          ]
        },
        {
          "output_type": "display_data",
          "data": {
            "text/plain": [
              "4240    Yes\n",
              "5041     No\n",
              "5746     No\n",
              "9057     No\n",
              "8085     No\n",
              "Name: HOF, dtype: object"
            ]
          },
          "metadata": {}
        }
      ]
    },
    {
      "cell_type": "markdown",
      "source": [
        "# Initial Pipeline"
      ],
      "metadata": {
        "id": "kOS2hwMZmEab"
      }
    },
    {
      "cell_type": "markdown",
      "source": [
        "Establish pipline for data types"
      ],
      "metadata": {
        "id": "97f4PtPloVwL"
      }
    },
    {
      "cell_type": "code",
      "source": [
        "cat_pipeline = Pipeline(steps=[('cat_impute', SimpleImputer(strategy='most_frequent')),\n",
        "                               ('onehot_cat', OneHotEncoder(handle_unknown='ignore'))])\n",
        "num_pipeline = Pipeline(steps=[('impute_num', SimpleImputer(strategy='mean')),\n",
        "                               ('scale_num', StandardScaler())])"
      ],
      "metadata": {
        "id": "wl55cpGkmHHG"
      },
      "execution_count": 229,
      "outputs": []
    },
    {
      "cell_type": "markdown",
      "source": [
        "Initialize preprocessing pipeline by feature set"
      ],
      "metadata": {
        "id": "JO8H6BInogdC"
      }
    },
    {
      "cell_type": "code",
      "source": [
        "preprocess = ColumnTransformer([('cat_pipe', cat_pipeline, make_column_selector(dtype_include=object)),\n",
        "                             ('num_pipe', num_pipeline, make_column_selector(dtype_include=np.number))],\n",
        "                             remainder='passthrough')\n",
        "\n",
        "print(preprocess)"
      ],
      "metadata": {
        "colab": {
          "base_uri": "https://localhost:8080/"
        },
        "id": "IZsM7iRSoSZ2",
        "outputId": "86d70b6d-c9e3-4973-82d5-0149060c5afd"
      },
      "execution_count": 230,
      "outputs": [
        {
          "output_type": "stream",
          "name": "stdout",
          "text": [
            "ColumnTransformer(remainder='passthrough',\n",
            "                  transformers=[('cat_pipe',\n",
            "                                 Pipeline(steps=[('cat_impute',\n",
            "                                                  SimpleImputer(strategy='most_frequent')),\n",
            "                                                 ('onehot_cat',\n",
            "                                                  OneHotEncoder(handle_unknown='ignore'))]),\n",
            "                                 <sklearn.compose._column_transformer.make_column_selector object at 0x7fba4512dc50>),\n",
            "                                ('num_pipe',\n",
            "                                 Pipeline(steps=[('impute_num',\n",
            "                                                  SimpleImputer()),\n",
            "                                                 ('scale_num',\n",
            "                                                  StandardScaler())]),\n",
            "                                 <sklearn.compose._column_transformer.make_column_selector object at 0x7fba4512dd50>)])\n"
          ]
        }
      ]
    },
    {
      "cell_type": "markdown",
      "source": [
        "LogisticRegression"
      ],
      "metadata": {
        "id": "OUZZwOr5ovbG"
      }
    },
    {
      "cell_type": "code",
      "source": [
        "pipeLR = Pipeline(steps=[('preproc', preprocess),\n",
        "                       ('mdl', LogisticRegression(penalty='elasticnet', solver='saga', tol=0.01))])\n",
        "\n",
        "with config_context(display='diagram'):\n",
        "    display(pipeLR)"
      ],
      "metadata": {
        "colab": {
          "base_uri": "https://localhost:8080/",
          "height": 227
        },
        "id": "-hJsNNcvo3K6",
        "outputId": "18bf94ff-61c9-434c-d6ad-a6499be276a4"
      },
      "execution_count": 231,
      "outputs": [
        {
          "output_type": "display_data",
          "data": {
            "text/plain": [
              "Pipeline(steps=[('preproc',\n",
              "                 ColumnTransformer(remainder='passthrough',\n",
              "                                   transformers=[('cat_pipe',\n",
              "                                                  Pipeline(steps=[('cat_impute',\n",
              "                                                                   SimpleImputer(strategy='most_frequent')),\n",
              "                                                                  ('onehot_cat',\n",
              "                                                                   OneHotEncoder(handle_unknown='ignore'))]),\n",
              "                                                  <sklearn.compose._column_transformer.make_column_selector object at 0x7fba4512dc50>),\n",
              "                                                 ('num_pipe',\n",
              "                                                  Pipeline(steps=[('impute_num',\n",
              "                                                                   SimpleImputer()),\n",
              "                                                                  ('scale_num',\n",
              "                                                                   StandardScaler())]),\n",
              "                                                  <sklearn.compose._column_transformer.make_column_selector object at 0x7fba4512dd50>)])),\n",
              "                ('mdl',\n",
              "                 LogisticRegression(penalty='elasticnet', solver='saga',\n",
              "                                    tol=0.01))])"
            ],
            "text/html": [
              "<style>#sk-5333a925-db84-49a5-a22b-c871f34f011e {color: black;background-color: white;}#sk-5333a925-db84-49a5-a22b-c871f34f011e pre{padding: 0;}#sk-5333a925-db84-49a5-a22b-c871f34f011e div.sk-toggleable {background-color: white;}#sk-5333a925-db84-49a5-a22b-c871f34f011e label.sk-toggleable__label {cursor: pointer;display: block;width: 100%;margin-bottom: 0;padding: 0.3em;box-sizing: border-box;text-align: center;}#sk-5333a925-db84-49a5-a22b-c871f34f011e label.sk-toggleable__label-arrow:before {content: \"▸\";float: left;margin-right: 0.25em;color: #696969;}#sk-5333a925-db84-49a5-a22b-c871f34f011e label.sk-toggleable__label-arrow:hover:before {color: black;}#sk-5333a925-db84-49a5-a22b-c871f34f011e div.sk-estimator:hover label.sk-toggleable__label-arrow:before {color: black;}#sk-5333a925-db84-49a5-a22b-c871f34f011e div.sk-toggleable__content {max-height: 0;max-width: 0;overflow: hidden;text-align: left;background-color: #f0f8ff;}#sk-5333a925-db84-49a5-a22b-c871f34f011e div.sk-toggleable__content pre {margin: 0.2em;color: black;border-radius: 0.25em;background-color: #f0f8ff;}#sk-5333a925-db84-49a5-a22b-c871f34f011e input.sk-toggleable__control:checked~div.sk-toggleable__content {max-height: 200px;max-width: 100%;overflow: auto;}#sk-5333a925-db84-49a5-a22b-c871f34f011e input.sk-toggleable__control:checked~label.sk-toggleable__label-arrow:before {content: \"▾\";}#sk-5333a925-db84-49a5-a22b-c871f34f011e div.sk-estimator input.sk-toggleable__control:checked~label.sk-toggleable__label {background-color: #d4ebff;}#sk-5333a925-db84-49a5-a22b-c871f34f011e div.sk-label input.sk-toggleable__control:checked~label.sk-toggleable__label {background-color: #d4ebff;}#sk-5333a925-db84-49a5-a22b-c871f34f011e input.sk-hidden--visually {border: 0;clip: rect(1px 1px 1px 1px);clip: rect(1px, 1px, 1px, 1px);height: 1px;margin: -1px;overflow: hidden;padding: 0;position: absolute;width: 1px;}#sk-5333a925-db84-49a5-a22b-c871f34f011e div.sk-estimator {font-family: monospace;background-color: #f0f8ff;border: 1px dotted black;border-radius: 0.25em;box-sizing: border-box;margin-bottom: 0.5em;}#sk-5333a925-db84-49a5-a22b-c871f34f011e div.sk-estimator:hover {background-color: #d4ebff;}#sk-5333a925-db84-49a5-a22b-c871f34f011e div.sk-parallel-item::after {content: \"\";width: 100%;border-bottom: 1px solid gray;flex-grow: 1;}#sk-5333a925-db84-49a5-a22b-c871f34f011e div.sk-label:hover label.sk-toggleable__label {background-color: #d4ebff;}#sk-5333a925-db84-49a5-a22b-c871f34f011e div.sk-serial::before {content: \"\";position: absolute;border-left: 1px solid gray;box-sizing: border-box;top: 2em;bottom: 0;left: 50%;}#sk-5333a925-db84-49a5-a22b-c871f34f011e div.sk-serial {display: flex;flex-direction: column;align-items: center;background-color: white;padding-right: 0.2em;padding-left: 0.2em;}#sk-5333a925-db84-49a5-a22b-c871f34f011e div.sk-item {z-index: 1;}#sk-5333a925-db84-49a5-a22b-c871f34f011e div.sk-parallel {display: flex;align-items: stretch;justify-content: center;background-color: white;}#sk-5333a925-db84-49a5-a22b-c871f34f011e div.sk-parallel::before {content: \"\";position: absolute;border-left: 1px solid gray;box-sizing: border-box;top: 2em;bottom: 0;left: 50%;}#sk-5333a925-db84-49a5-a22b-c871f34f011e div.sk-parallel-item {display: flex;flex-direction: column;position: relative;background-color: white;}#sk-5333a925-db84-49a5-a22b-c871f34f011e div.sk-parallel-item:first-child::after {align-self: flex-end;width: 50%;}#sk-5333a925-db84-49a5-a22b-c871f34f011e div.sk-parallel-item:last-child::after {align-self: flex-start;width: 50%;}#sk-5333a925-db84-49a5-a22b-c871f34f011e div.sk-parallel-item:only-child::after {width: 0;}#sk-5333a925-db84-49a5-a22b-c871f34f011e div.sk-dashed-wrapped {border: 1px dashed gray;margin: 0 0.4em 0.5em 0.4em;box-sizing: border-box;padding-bottom: 0.4em;background-color: white;position: relative;}#sk-5333a925-db84-49a5-a22b-c871f34f011e div.sk-label label {font-family: monospace;font-weight: bold;background-color: white;display: inline-block;line-height: 1.2em;}#sk-5333a925-db84-49a5-a22b-c871f34f011e div.sk-label-container {position: relative;z-index: 2;text-align: center;}#sk-5333a925-db84-49a5-a22b-c871f34f011e div.sk-container {/* jupyter's `normalize.less` sets `[hidden] { display: none; }` but bootstrap.min.css set `[hidden] { display: none !important; }` so we also need the `!important` here to be able to override the default hidden behavior on the sphinx rendered scikit-learn.org. See: https://github.com/scikit-learn/scikit-learn/issues/21755 */display: inline-block !important;position: relative;}#sk-5333a925-db84-49a5-a22b-c871f34f011e div.sk-text-repr-fallback {display: none;}</style><div id=\"sk-5333a925-db84-49a5-a22b-c871f34f011e\" class=\"sk-top-container\"><div class=\"sk-text-repr-fallback\"><pre>Pipeline(steps=[(&#x27;preproc&#x27;,\n",
              "                 ColumnTransformer(remainder=&#x27;passthrough&#x27;,\n",
              "                                   transformers=[(&#x27;cat_pipe&#x27;,\n",
              "                                                  Pipeline(steps=[(&#x27;cat_impute&#x27;,\n",
              "                                                                   SimpleImputer(strategy=&#x27;most_frequent&#x27;)),\n",
              "                                                                  (&#x27;onehot_cat&#x27;,\n",
              "                                                                   OneHotEncoder(handle_unknown=&#x27;ignore&#x27;))]),\n",
              "                                                  &lt;sklearn.compose._column_transformer.make_column_selector object at 0x7fba4512dc50&gt;),\n",
              "                                                 (&#x27;num_pipe&#x27;,\n",
              "                                                  Pipeline(steps=[(&#x27;impute_num&#x27;,\n",
              "                                                                   SimpleImputer()),\n",
              "                                                                  (&#x27;scale_num&#x27;,\n",
              "                                                                   StandardScaler())]),\n",
              "                                                  &lt;sklearn.compose._column_transformer.make_column_selector object at 0x7fba4512dd50&gt;)])),\n",
              "                (&#x27;mdl&#x27;,\n",
              "                 LogisticRegression(penalty=&#x27;elasticnet&#x27;, solver=&#x27;saga&#x27;,\n",
              "                                    tol=0.01))])</pre><b>Please rerun this cell to show the HTML repr or trust the notebook.</b></div><div class=\"sk-container\" hidden><div class=\"sk-item sk-dashed-wrapped\"><div class=\"sk-label-container\"><div class=\"sk-label sk-toggleable\"><input class=\"sk-toggleable__control sk-hidden--visually\" id=\"449ea377-473a-4eca-b730-7168ee3d612a\" type=\"checkbox\" ><label for=\"449ea377-473a-4eca-b730-7168ee3d612a\" class=\"sk-toggleable__label sk-toggleable__label-arrow\">Pipeline</label><div class=\"sk-toggleable__content\"><pre>Pipeline(steps=[(&#x27;preproc&#x27;,\n",
              "                 ColumnTransformer(remainder=&#x27;passthrough&#x27;,\n",
              "                                   transformers=[(&#x27;cat_pipe&#x27;,\n",
              "                                                  Pipeline(steps=[(&#x27;cat_impute&#x27;,\n",
              "                                                                   SimpleImputer(strategy=&#x27;most_frequent&#x27;)),\n",
              "                                                                  (&#x27;onehot_cat&#x27;,\n",
              "                                                                   OneHotEncoder(handle_unknown=&#x27;ignore&#x27;))]),\n",
              "                                                  &lt;sklearn.compose._column_transformer.make_column_selector object at 0x7fba4512dc50&gt;),\n",
              "                                                 (&#x27;num_pipe&#x27;,\n",
              "                                                  Pipeline(steps=[(&#x27;impute_num&#x27;,\n",
              "                                                                   SimpleImputer()),\n",
              "                                                                  (&#x27;scale_num&#x27;,\n",
              "                                                                   StandardScaler())]),\n",
              "                                                  &lt;sklearn.compose._column_transformer.make_column_selector object at 0x7fba4512dd50&gt;)])),\n",
              "                (&#x27;mdl&#x27;,\n",
              "                 LogisticRegression(penalty=&#x27;elasticnet&#x27;, solver=&#x27;saga&#x27;,\n",
              "                                    tol=0.01))])</pre></div></div></div><div class=\"sk-serial\"><div class=\"sk-item sk-dashed-wrapped\"><div class=\"sk-label-container\"><div class=\"sk-label sk-toggleable\"><input class=\"sk-toggleable__control sk-hidden--visually\" id=\"93d90421-814b-4faa-89d6-2ea7ff6b7050\" type=\"checkbox\" ><label for=\"93d90421-814b-4faa-89d6-2ea7ff6b7050\" class=\"sk-toggleable__label sk-toggleable__label-arrow\">preproc: ColumnTransformer</label><div class=\"sk-toggleable__content\"><pre>ColumnTransformer(remainder=&#x27;passthrough&#x27;,\n",
              "                  transformers=[(&#x27;cat_pipe&#x27;,\n",
              "                                 Pipeline(steps=[(&#x27;cat_impute&#x27;,\n",
              "                                                  SimpleImputer(strategy=&#x27;most_frequent&#x27;)),\n",
              "                                                 (&#x27;onehot_cat&#x27;,\n",
              "                                                  OneHotEncoder(handle_unknown=&#x27;ignore&#x27;))]),\n",
              "                                 &lt;sklearn.compose._column_transformer.make_column_selector object at 0x7fba4512dc50&gt;),\n",
              "                                (&#x27;num_pipe&#x27;,\n",
              "                                 Pipeline(steps=[(&#x27;impute_num&#x27;,\n",
              "                                                  SimpleImputer()),\n",
              "                                                 (&#x27;scale_num&#x27;,\n",
              "                                                  StandardScaler())]),\n",
              "                                 &lt;sklearn.compose._column_transformer.make_column_selector object at 0x7fba4512dd50&gt;)])</pre></div></div></div><div class=\"sk-parallel\"><div class=\"sk-parallel-item\"><div class=\"sk-item\"><div class=\"sk-label-container\"><div class=\"sk-label sk-toggleable\"><input class=\"sk-toggleable__control sk-hidden--visually\" id=\"6199784e-8b24-4c53-81f4-77c010c3f363\" type=\"checkbox\" ><label for=\"6199784e-8b24-4c53-81f4-77c010c3f363\" class=\"sk-toggleable__label sk-toggleable__label-arrow\">cat_pipe</label><div class=\"sk-toggleable__content\"><pre>&lt;sklearn.compose._column_transformer.make_column_selector object at 0x7fba4512dc50&gt;</pre></div></div></div><div class=\"sk-serial\"><div class=\"sk-item\"><div class=\"sk-serial\"><div class=\"sk-item\"><div class=\"sk-estimator sk-toggleable\"><input class=\"sk-toggleable__control sk-hidden--visually\" id=\"75f3d6b5-8ca7-404d-8a37-f58b7d54362b\" type=\"checkbox\" ><label for=\"75f3d6b5-8ca7-404d-8a37-f58b7d54362b\" class=\"sk-toggleable__label sk-toggleable__label-arrow\">SimpleImputer</label><div class=\"sk-toggleable__content\"><pre>SimpleImputer(strategy=&#x27;most_frequent&#x27;)</pre></div></div></div><div class=\"sk-item\"><div class=\"sk-estimator sk-toggleable\"><input class=\"sk-toggleable__control sk-hidden--visually\" id=\"844f4d4c-a526-4111-bb21-c9d72a96a8c5\" type=\"checkbox\" ><label for=\"844f4d4c-a526-4111-bb21-c9d72a96a8c5\" class=\"sk-toggleable__label sk-toggleable__label-arrow\">OneHotEncoder</label><div class=\"sk-toggleable__content\"><pre>OneHotEncoder(handle_unknown=&#x27;ignore&#x27;)</pre></div></div></div></div></div></div></div></div><div class=\"sk-parallel-item\"><div class=\"sk-item\"><div class=\"sk-label-container\"><div class=\"sk-label sk-toggleable\"><input class=\"sk-toggleable__control sk-hidden--visually\" id=\"756cd3a7-9e86-44ed-b3b1-a3279cb67b19\" type=\"checkbox\" ><label for=\"756cd3a7-9e86-44ed-b3b1-a3279cb67b19\" class=\"sk-toggleable__label sk-toggleable__label-arrow\">num_pipe</label><div class=\"sk-toggleable__content\"><pre>&lt;sklearn.compose._column_transformer.make_column_selector object at 0x7fba4512dd50&gt;</pre></div></div></div><div class=\"sk-serial\"><div class=\"sk-item\"><div class=\"sk-serial\"><div class=\"sk-item\"><div class=\"sk-estimator sk-toggleable\"><input class=\"sk-toggleable__control sk-hidden--visually\" id=\"693064e4-0f59-46df-bc87-7a872df086a8\" type=\"checkbox\" ><label for=\"693064e4-0f59-46df-bc87-7a872df086a8\" class=\"sk-toggleable__label sk-toggleable__label-arrow\">SimpleImputer</label><div class=\"sk-toggleable__content\"><pre>SimpleImputer()</pre></div></div></div><div class=\"sk-item\"><div class=\"sk-estimator sk-toggleable\"><input class=\"sk-toggleable__control sk-hidden--visually\" id=\"c19f70bb-ef6c-4d6e-bdc2-88cc91c3c7f5\" type=\"checkbox\" ><label for=\"c19f70bb-ef6c-4d6e-bdc2-88cc91c3c7f5\" class=\"sk-toggleable__label sk-toggleable__label-arrow\">StandardScaler</label><div class=\"sk-toggleable__content\"><pre>StandardScaler()</pre></div></div></div></div></div></div></div></div><div class=\"sk-parallel-item\"><div class=\"sk-item\"><div class=\"sk-label-container\"><div class=\"sk-label sk-toggleable\"><input class=\"sk-toggleable__control sk-hidden--visually\" id=\"d52a047a-92b4-4418-80c8-eaa95bb59d92\" type=\"checkbox\" ><label for=\"d52a047a-92b4-4418-80c8-eaa95bb59d92\" class=\"sk-toggleable__label sk-toggleable__label-arrow\">remainder</label><div class=\"sk-toggleable__content\"><pre></pre></div></div></div><div class=\"sk-serial\"><div class=\"sk-item\"><div class=\"sk-estimator sk-toggleable\"><input class=\"sk-toggleable__control sk-hidden--visually\" id=\"a8277542-9c62-4f3d-9113-53c47e416221\" type=\"checkbox\" ><label for=\"a8277542-9c62-4f3d-9113-53c47e416221\" class=\"sk-toggleable__label sk-toggleable__label-arrow\">passthrough</label><div class=\"sk-toggleable__content\"><pre>passthrough</pre></div></div></div></div></div></div></div></div><div class=\"sk-item\"><div class=\"sk-estimator sk-toggleable\"><input class=\"sk-toggleable__control sk-hidden--visually\" id=\"55ea5ecd-42cb-4a48-bfcd-4696e4813c3b\" type=\"checkbox\" ><label for=\"55ea5ecd-42cb-4a48-bfcd-4696e4813c3b\" class=\"sk-toggleable__label sk-toggleable__label-arrow\">LogisticRegression</label><div class=\"sk-toggleable__content\"><pre>LogisticRegression(penalty=&#x27;elasticnet&#x27;, solver=&#x27;saga&#x27;, tol=0.01)</pre></div></div></div></div></div></div></div>"
            ]
          },
          "metadata": {}
        }
      ]
    },
    {
      "cell_type": "markdown",
      "source": [
        "GradientBoost"
      ],
      "metadata": {
        "id": "iqbrkjY-pFmb"
      }
    },
    {
      "cell_type": "code",
      "source": [
        "# TODO: set up your modeling pipeline GradientBoosting\n",
        "pipeGradBoost = Pipeline(steps=[('preproc', preprocess),\n",
        "                       ('gbc', GradientBoostingClassifier())])\n",
        "\n",
        "\n",
        "# Feel free to uncomment and edit the code below to visualize your overall pipeline\n",
        "with config_context(display='diagram'):\n",
        "    display(pipeGradBoost)"
      ],
      "metadata": {
        "colab": {
          "base_uri": "https://localhost:8080/",
          "height": 227
        },
        "id": "NYD_Y-lfpHoV",
        "outputId": "2b644f84-ffb9-4051-8af4-466d65cf058f"
      },
      "execution_count": 232,
      "outputs": [
        {
          "output_type": "display_data",
          "data": {
            "text/plain": [
              "Pipeline(steps=[('preproc',\n",
              "                 ColumnTransformer(remainder='passthrough',\n",
              "                                   transformers=[('cat_pipe',\n",
              "                                                  Pipeline(steps=[('cat_impute',\n",
              "                                                                   SimpleImputer(strategy='most_frequent')),\n",
              "                                                                  ('onehot_cat',\n",
              "                                                                   OneHotEncoder(handle_unknown='ignore'))]),\n",
              "                                                  <sklearn.compose._column_transformer.make_column_selector object at 0x7fba4512dc50>),\n",
              "                                                 ('num_pipe',\n",
              "                                                  Pipeline(steps=[('impute_num',\n",
              "                                                                   SimpleImputer()),\n",
              "                                                                  ('scale_num',\n",
              "                                                                   StandardScaler())]),\n",
              "                                                  <sklearn.compose._column_transformer.make_column_selector object at 0x7fba4512dd50>)])),\n",
              "                ('gbc', GradientBoostingClassifier())])"
            ],
            "text/html": [
              "<style>#sk-5399f751-7592-4a50-831f-50ee81d07fef {color: black;background-color: white;}#sk-5399f751-7592-4a50-831f-50ee81d07fef pre{padding: 0;}#sk-5399f751-7592-4a50-831f-50ee81d07fef div.sk-toggleable {background-color: white;}#sk-5399f751-7592-4a50-831f-50ee81d07fef label.sk-toggleable__label {cursor: pointer;display: block;width: 100%;margin-bottom: 0;padding: 0.3em;box-sizing: border-box;text-align: center;}#sk-5399f751-7592-4a50-831f-50ee81d07fef label.sk-toggleable__label-arrow:before {content: \"▸\";float: left;margin-right: 0.25em;color: #696969;}#sk-5399f751-7592-4a50-831f-50ee81d07fef label.sk-toggleable__label-arrow:hover:before {color: black;}#sk-5399f751-7592-4a50-831f-50ee81d07fef div.sk-estimator:hover label.sk-toggleable__label-arrow:before {color: black;}#sk-5399f751-7592-4a50-831f-50ee81d07fef div.sk-toggleable__content {max-height: 0;max-width: 0;overflow: hidden;text-align: left;background-color: #f0f8ff;}#sk-5399f751-7592-4a50-831f-50ee81d07fef div.sk-toggleable__content pre {margin: 0.2em;color: black;border-radius: 0.25em;background-color: #f0f8ff;}#sk-5399f751-7592-4a50-831f-50ee81d07fef input.sk-toggleable__control:checked~div.sk-toggleable__content {max-height: 200px;max-width: 100%;overflow: auto;}#sk-5399f751-7592-4a50-831f-50ee81d07fef input.sk-toggleable__control:checked~label.sk-toggleable__label-arrow:before {content: \"▾\";}#sk-5399f751-7592-4a50-831f-50ee81d07fef div.sk-estimator input.sk-toggleable__control:checked~label.sk-toggleable__label {background-color: #d4ebff;}#sk-5399f751-7592-4a50-831f-50ee81d07fef div.sk-label input.sk-toggleable__control:checked~label.sk-toggleable__label {background-color: #d4ebff;}#sk-5399f751-7592-4a50-831f-50ee81d07fef input.sk-hidden--visually {border: 0;clip: rect(1px 1px 1px 1px);clip: rect(1px, 1px, 1px, 1px);height: 1px;margin: -1px;overflow: hidden;padding: 0;position: absolute;width: 1px;}#sk-5399f751-7592-4a50-831f-50ee81d07fef div.sk-estimator {font-family: monospace;background-color: #f0f8ff;border: 1px dotted black;border-radius: 0.25em;box-sizing: border-box;margin-bottom: 0.5em;}#sk-5399f751-7592-4a50-831f-50ee81d07fef div.sk-estimator:hover {background-color: #d4ebff;}#sk-5399f751-7592-4a50-831f-50ee81d07fef div.sk-parallel-item::after {content: \"\";width: 100%;border-bottom: 1px solid gray;flex-grow: 1;}#sk-5399f751-7592-4a50-831f-50ee81d07fef div.sk-label:hover label.sk-toggleable__label {background-color: #d4ebff;}#sk-5399f751-7592-4a50-831f-50ee81d07fef div.sk-serial::before {content: \"\";position: absolute;border-left: 1px solid gray;box-sizing: border-box;top: 2em;bottom: 0;left: 50%;}#sk-5399f751-7592-4a50-831f-50ee81d07fef div.sk-serial {display: flex;flex-direction: column;align-items: center;background-color: white;padding-right: 0.2em;padding-left: 0.2em;}#sk-5399f751-7592-4a50-831f-50ee81d07fef div.sk-item {z-index: 1;}#sk-5399f751-7592-4a50-831f-50ee81d07fef div.sk-parallel {display: flex;align-items: stretch;justify-content: center;background-color: white;}#sk-5399f751-7592-4a50-831f-50ee81d07fef div.sk-parallel::before {content: \"\";position: absolute;border-left: 1px solid gray;box-sizing: border-box;top: 2em;bottom: 0;left: 50%;}#sk-5399f751-7592-4a50-831f-50ee81d07fef div.sk-parallel-item {display: flex;flex-direction: column;position: relative;background-color: white;}#sk-5399f751-7592-4a50-831f-50ee81d07fef div.sk-parallel-item:first-child::after {align-self: flex-end;width: 50%;}#sk-5399f751-7592-4a50-831f-50ee81d07fef div.sk-parallel-item:last-child::after {align-self: flex-start;width: 50%;}#sk-5399f751-7592-4a50-831f-50ee81d07fef div.sk-parallel-item:only-child::after {width: 0;}#sk-5399f751-7592-4a50-831f-50ee81d07fef div.sk-dashed-wrapped {border: 1px dashed gray;margin: 0 0.4em 0.5em 0.4em;box-sizing: border-box;padding-bottom: 0.4em;background-color: white;position: relative;}#sk-5399f751-7592-4a50-831f-50ee81d07fef div.sk-label label {font-family: monospace;font-weight: bold;background-color: white;display: inline-block;line-height: 1.2em;}#sk-5399f751-7592-4a50-831f-50ee81d07fef div.sk-label-container {position: relative;z-index: 2;text-align: center;}#sk-5399f751-7592-4a50-831f-50ee81d07fef div.sk-container {/* jupyter's `normalize.less` sets `[hidden] { display: none; }` but bootstrap.min.css set `[hidden] { display: none !important; }` so we also need the `!important` here to be able to override the default hidden behavior on the sphinx rendered scikit-learn.org. See: https://github.com/scikit-learn/scikit-learn/issues/21755 */display: inline-block !important;position: relative;}#sk-5399f751-7592-4a50-831f-50ee81d07fef div.sk-text-repr-fallback {display: none;}</style><div id=\"sk-5399f751-7592-4a50-831f-50ee81d07fef\" class=\"sk-top-container\"><div class=\"sk-text-repr-fallback\"><pre>Pipeline(steps=[(&#x27;preproc&#x27;,\n",
              "                 ColumnTransformer(remainder=&#x27;passthrough&#x27;,\n",
              "                                   transformers=[(&#x27;cat_pipe&#x27;,\n",
              "                                                  Pipeline(steps=[(&#x27;cat_impute&#x27;,\n",
              "                                                                   SimpleImputer(strategy=&#x27;most_frequent&#x27;)),\n",
              "                                                                  (&#x27;onehot_cat&#x27;,\n",
              "                                                                   OneHotEncoder(handle_unknown=&#x27;ignore&#x27;))]),\n",
              "                                                  &lt;sklearn.compose._column_transformer.make_column_selector object at 0x7fba4512dc50&gt;),\n",
              "                                                 (&#x27;num_pipe&#x27;,\n",
              "                                                  Pipeline(steps=[(&#x27;impute_num&#x27;,\n",
              "                                                                   SimpleImputer()),\n",
              "                                                                  (&#x27;scale_num&#x27;,\n",
              "                                                                   StandardScaler())]),\n",
              "                                                  &lt;sklearn.compose._column_transformer.make_column_selector object at 0x7fba4512dd50&gt;)])),\n",
              "                (&#x27;gbc&#x27;, GradientBoostingClassifier())])</pre><b>Please rerun this cell to show the HTML repr or trust the notebook.</b></div><div class=\"sk-container\" hidden><div class=\"sk-item sk-dashed-wrapped\"><div class=\"sk-label-container\"><div class=\"sk-label sk-toggleable\"><input class=\"sk-toggleable__control sk-hidden--visually\" id=\"79ffbad3-8240-4fbc-816d-232e9046f13e\" type=\"checkbox\" ><label for=\"79ffbad3-8240-4fbc-816d-232e9046f13e\" class=\"sk-toggleable__label sk-toggleable__label-arrow\">Pipeline</label><div class=\"sk-toggleable__content\"><pre>Pipeline(steps=[(&#x27;preproc&#x27;,\n",
              "                 ColumnTransformer(remainder=&#x27;passthrough&#x27;,\n",
              "                                   transformers=[(&#x27;cat_pipe&#x27;,\n",
              "                                                  Pipeline(steps=[(&#x27;cat_impute&#x27;,\n",
              "                                                                   SimpleImputer(strategy=&#x27;most_frequent&#x27;)),\n",
              "                                                                  (&#x27;onehot_cat&#x27;,\n",
              "                                                                   OneHotEncoder(handle_unknown=&#x27;ignore&#x27;))]),\n",
              "                                                  &lt;sklearn.compose._column_transformer.make_column_selector object at 0x7fba4512dc50&gt;),\n",
              "                                                 (&#x27;num_pipe&#x27;,\n",
              "                                                  Pipeline(steps=[(&#x27;impute_num&#x27;,\n",
              "                                                                   SimpleImputer()),\n",
              "                                                                  (&#x27;scale_num&#x27;,\n",
              "                                                                   StandardScaler())]),\n",
              "                                                  &lt;sklearn.compose._column_transformer.make_column_selector object at 0x7fba4512dd50&gt;)])),\n",
              "                (&#x27;gbc&#x27;, GradientBoostingClassifier())])</pre></div></div></div><div class=\"sk-serial\"><div class=\"sk-item sk-dashed-wrapped\"><div class=\"sk-label-container\"><div class=\"sk-label sk-toggleable\"><input class=\"sk-toggleable__control sk-hidden--visually\" id=\"8bacac2d-8f87-4c14-836f-d88805e03f8d\" type=\"checkbox\" ><label for=\"8bacac2d-8f87-4c14-836f-d88805e03f8d\" class=\"sk-toggleable__label sk-toggleable__label-arrow\">preproc: ColumnTransformer</label><div class=\"sk-toggleable__content\"><pre>ColumnTransformer(remainder=&#x27;passthrough&#x27;,\n",
              "                  transformers=[(&#x27;cat_pipe&#x27;,\n",
              "                                 Pipeline(steps=[(&#x27;cat_impute&#x27;,\n",
              "                                                  SimpleImputer(strategy=&#x27;most_frequent&#x27;)),\n",
              "                                                 (&#x27;onehot_cat&#x27;,\n",
              "                                                  OneHotEncoder(handle_unknown=&#x27;ignore&#x27;))]),\n",
              "                                 &lt;sklearn.compose._column_transformer.make_column_selector object at 0x7fba4512dc50&gt;),\n",
              "                                (&#x27;num_pipe&#x27;,\n",
              "                                 Pipeline(steps=[(&#x27;impute_num&#x27;,\n",
              "                                                  SimpleImputer()),\n",
              "                                                 (&#x27;scale_num&#x27;,\n",
              "                                                  StandardScaler())]),\n",
              "                                 &lt;sklearn.compose._column_transformer.make_column_selector object at 0x7fba4512dd50&gt;)])</pre></div></div></div><div class=\"sk-parallel\"><div class=\"sk-parallel-item\"><div class=\"sk-item\"><div class=\"sk-label-container\"><div class=\"sk-label sk-toggleable\"><input class=\"sk-toggleable__control sk-hidden--visually\" id=\"01dbcafe-dfde-491e-a43f-909366bf6e53\" type=\"checkbox\" ><label for=\"01dbcafe-dfde-491e-a43f-909366bf6e53\" class=\"sk-toggleable__label sk-toggleable__label-arrow\">cat_pipe</label><div class=\"sk-toggleable__content\"><pre>&lt;sklearn.compose._column_transformer.make_column_selector object at 0x7fba4512dc50&gt;</pre></div></div></div><div class=\"sk-serial\"><div class=\"sk-item\"><div class=\"sk-serial\"><div class=\"sk-item\"><div class=\"sk-estimator sk-toggleable\"><input class=\"sk-toggleable__control sk-hidden--visually\" id=\"212f3a84-41ac-4ecd-83da-87d1afbe2b09\" type=\"checkbox\" ><label for=\"212f3a84-41ac-4ecd-83da-87d1afbe2b09\" class=\"sk-toggleable__label sk-toggleable__label-arrow\">SimpleImputer</label><div class=\"sk-toggleable__content\"><pre>SimpleImputer(strategy=&#x27;most_frequent&#x27;)</pre></div></div></div><div class=\"sk-item\"><div class=\"sk-estimator sk-toggleable\"><input class=\"sk-toggleable__control sk-hidden--visually\" id=\"74531d78-2169-4915-a5cd-f99b39c925ce\" type=\"checkbox\" ><label for=\"74531d78-2169-4915-a5cd-f99b39c925ce\" class=\"sk-toggleable__label sk-toggleable__label-arrow\">OneHotEncoder</label><div class=\"sk-toggleable__content\"><pre>OneHotEncoder(handle_unknown=&#x27;ignore&#x27;)</pre></div></div></div></div></div></div></div></div><div class=\"sk-parallel-item\"><div class=\"sk-item\"><div class=\"sk-label-container\"><div class=\"sk-label sk-toggleable\"><input class=\"sk-toggleable__control sk-hidden--visually\" id=\"b3a212e1-0c9c-4dfc-bb8d-987e13d5834d\" type=\"checkbox\" ><label for=\"b3a212e1-0c9c-4dfc-bb8d-987e13d5834d\" class=\"sk-toggleable__label sk-toggleable__label-arrow\">num_pipe</label><div class=\"sk-toggleable__content\"><pre>&lt;sklearn.compose._column_transformer.make_column_selector object at 0x7fba4512dd50&gt;</pre></div></div></div><div class=\"sk-serial\"><div class=\"sk-item\"><div class=\"sk-serial\"><div class=\"sk-item\"><div class=\"sk-estimator sk-toggleable\"><input class=\"sk-toggleable__control sk-hidden--visually\" id=\"f7cbdd59-2c48-45ab-b487-8588ae86b02d\" type=\"checkbox\" ><label for=\"f7cbdd59-2c48-45ab-b487-8588ae86b02d\" class=\"sk-toggleable__label sk-toggleable__label-arrow\">SimpleImputer</label><div class=\"sk-toggleable__content\"><pre>SimpleImputer()</pre></div></div></div><div class=\"sk-item\"><div class=\"sk-estimator sk-toggleable\"><input class=\"sk-toggleable__control sk-hidden--visually\" id=\"5027634e-4cee-4b80-a8d7-5c415793d0a4\" type=\"checkbox\" ><label for=\"5027634e-4cee-4b80-a8d7-5c415793d0a4\" class=\"sk-toggleable__label sk-toggleable__label-arrow\">StandardScaler</label><div class=\"sk-toggleable__content\"><pre>StandardScaler()</pre></div></div></div></div></div></div></div></div><div class=\"sk-parallel-item\"><div class=\"sk-item\"><div class=\"sk-label-container\"><div class=\"sk-label sk-toggleable\"><input class=\"sk-toggleable__control sk-hidden--visually\" id=\"c223d421-3d81-4786-b571-da05cedcc203\" type=\"checkbox\" ><label for=\"c223d421-3d81-4786-b571-da05cedcc203\" class=\"sk-toggleable__label sk-toggleable__label-arrow\">remainder</label><div class=\"sk-toggleable__content\"><pre></pre></div></div></div><div class=\"sk-serial\"><div class=\"sk-item\"><div class=\"sk-estimator sk-toggleable\"><input class=\"sk-toggleable__control sk-hidden--visually\" id=\"c77e939e-be91-4ff0-b54d-a4e1ac8ba732\" type=\"checkbox\" ><label for=\"c77e939e-be91-4ff0-b54d-a4e1ac8ba732\" class=\"sk-toggleable__label sk-toggleable__label-arrow\">passthrough</label><div class=\"sk-toggleable__content\"><pre>passthrough</pre></div></div></div></div></div></div></div></div><div class=\"sk-item\"><div class=\"sk-estimator sk-toggleable\"><input class=\"sk-toggleable__control sk-hidden--visually\" id=\"0eff955b-5139-4377-a1b4-d295a138bc65\" type=\"checkbox\" ><label for=\"0eff955b-5139-4377-a1b4-d295a138bc65\" class=\"sk-toggleable__label sk-toggleable__label-arrow\">GradientBoostingClassifier</label><div class=\"sk-toggleable__content\"><pre>GradientBoostingClassifier()</pre></div></div></div></div></div></div></div>"
            ]
          },
          "metadata": {}
        }
      ]
    },
    {
      "cell_type": "markdown",
      "source": [
        "RandomForest"
      ],
      "metadata": {
        "id": "4EnDWv6ko7F_"
      }
    },
    {
      "cell_type": "code",
      "source": [
        "# TODO: set up your modeling pipeline RandomForest\n",
        "pipeRandForest = Pipeline([('preproc', preprocess),\n",
        "                        ('rf', RandomForestClassifier())])\n",
        "\n",
        "# Feel free to uncomment and edit the code below to visualize your overall pipeline\n",
        "with config_context(display='diagram'):\n",
        "    display(pipeRandForest)"
      ],
      "metadata": {
        "colab": {
          "base_uri": "https://localhost:8080/",
          "height": 227
        },
        "id": "MdsiAOpKo8tn",
        "outputId": "8ff83c8e-8da6-4ebb-f846-623fbc236d11"
      },
      "execution_count": 233,
      "outputs": [
        {
          "output_type": "display_data",
          "data": {
            "text/plain": [
              "Pipeline(steps=[('preproc',\n",
              "                 ColumnTransformer(remainder='passthrough',\n",
              "                                   transformers=[('cat_pipe',\n",
              "                                                  Pipeline(steps=[('cat_impute',\n",
              "                                                                   SimpleImputer(strategy='most_frequent')),\n",
              "                                                                  ('onehot_cat',\n",
              "                                                                   OneHotEncoder(handle_unknown='ignore'))]),\n",
              "                                                  <sklearn.compose._column_transformer.make_column_selector object at 0x7fba4512dc50>),\n",
              "                                                 ('num_pipe',\n",
              "                                                  Pipeline(steps=[('impute_num',\n",
              "                                                                   SimpleImputer()),\n",
              "                                                                  ('scale_num',\n",
              "                                                                   StandardScaler())]),\n",
              "                                                  <sklearn.compose._column_transformer.make_column_selector object at 0x7fba4512dd50>)])),\n",
              "                ('rf', RandomForestClassifier())])"
            ],
            "text/html": [
              "<style>#sk-2cc43f56-4f71-4a7a-8f74-af5f3eb9b54d {color: black;background-color: white;}#sk-2cc43f56-4f71-4a7a-8f74-af5f3eb9b54d pre{padding: 0;}#sk-2cc43f56-4f71-4a7a-8f74-af5f3eb9b54d div.sk-toggleable {background-color: white;}#sk-2cc43f56-4f71-4a7a-8f74-af5f3eb9b54d label.sk-toggleable__label {cursor: pointer;display: block;width: 100%;margin-bottom: 0;padding: 0.3em;box-sizing: border-box;text-align: center;}#sk-2cc43f56-4f71-4a7a-8f74-af5f3eb9b54d label.sk-toggleable__label-arrow:before {content: \"▸\";float: left;margin-right: 0.25em;color: #696969;}#sk-2cc43f56-4f71-4a7a-8f74-af5f3eb9b54d label.sk-toggleable__label-arrow:hover:before {color: black;}#sk-2cc43f56-4f71-4a7a-8f74-af5f3eb9b54d div.sk-estimator:hover label.sk-toggleable__label-arrow:before {color: black;}#sk-2cc43f56-4f71-4a7a-8f74-af5f3eb9b54d div.sk-toggleable__content {max-height: 0;max-width: 0;overflow: hidden;text-align: left;background-color: #f0f8ff;}#sk-2cc43f56-4f71-4a7a-8f74-af5f3eb9b54d div.sk-toggleable__content pre {margin: 0.2em;color: black;border-radius: 0.25em;background-color: #f0f8ff;}#sk-2cc43f56-4f71-4a7a-8f74-af5f3eb9b54d input.sk-toggleable__control:checked~div.sk-toggleable__content {max-height: 200px;max-width: 100%;overflow: auto;}#sk-2cc43f56-4f71-4a7a-8f74-af5f3eb9b54d input.sk-toggleable__control:checked~label.sk-toggleable__label-arrow:before {content: \"▾\";}#sk-2cc43f56-4f71-4a7a-8f74-af5f3eb9b54d div.sk-estimator input.sk-toggleable__control:checked~label.sk-toggleable__label {background-color: #d4ebff;}#sk-2cc43f56-4f71-4a7a-8f74-af5f3eb9b54d div.sk-label input.sk-toggleable__control:checked~label.sk-toggleable__label {background-color: #d4ebff;}#sk-2cc43f56-4f71-4a7a-8f74-af5f3eb9b54d input.sk-hidden--visually {border: 0;clip: rect(1px 1px 1px 1px);clip: rect(1px, 1px, 1px, 1px);height: 1px;margin: -1px;overflow: hidden;padding: 0;position: absolute;width: 1px;}#sk-2cc43f56-4f71-4a7a-8f74-af5f3eb9b54d div.sk-estimator {font-family: monospace;background-color: #f0f8ff;border: 1px dotted black;border-radius: 0.25em;box-sizing: border-box;margin-bottom: 0.5em;}#sk-2cc43f56-4f71-4a7a-8f74-af5f3eb9b54d div.sk-estimator:hover {background-color: #d4ebff;}#sk-2cc43f56-4f71-4a7a-8f74-af5f3eb9b54d div.sk-parallel-item::after {content: \"\";width: 100%;border-bottom: 1px solid gray;flex-grow: 1;}#sk-2cc43f56-4f71-4a7a-8f74-af5f3eb9b54d div.sk-label:hover label.sk-toggleable__label {background-color: #d4ebff;}#sk-2cc43f56-4f71-4a7a-8f74-af5f3eb9b54d div.sk-serial::before {content: \"\";position: absolute;border-left: 1px solid gray;box-sizing: border-box;top: 2em;bottom: 0;left: 50%;}#sk-2cc43f56-4f71-4a7a-8f74-af5f3eb9b54d div.sk-serial {display: flex;flex-direction: column;align-items: center;background-color: white;padding-right: 0.2em;padding-left: 0.2em;}#sk-2cc43f56-4f71-4a7a-8f74-af5f3eb9b54d div.sk-item {z-index: 1;}#sk-2cc43f56-4f71-4a7a-8f74-af5f3eb9b54d div.sk-parallel {display: flex;align-items: stretch;justify-content: center;background-color: white;}#sk-2cc43f56-4f71-4a7a-8f74-af5f3eb9b54d div.sk-parallel::before {content: \"\";position: absolute;border-left: 1px solid gray;box-sizing: border-box;top: 2em;bottom: 0;left: 50%;}#sk-2cc43f56-4f71-4a7a-8f74-af5f3eb9b54d div.sk-parallel-item {display: flex;flex-direction: column;position: relative;background-color: white;}#sk-2cc43f56-4f71-4a7a-8f74-af5f3eb9b54d div.sk-parallel-item:first-child::after {align-self: flex-end;width: 50%;}#sk-2cc43f56-4f71-4a7a-8f74-af5f3eb9b54d div.sk-parallel-item:last-child::after {align-self: flex-start;width: 50%;}#sk-2cc43f56-4f71-4a7a-8f74-af5f3eb9b54d div.sk-parallel-item:only-child::after {width: 0;}#sk-2cc43f56-4f71-4a7a-8f74-af5f3eb9b54d div.sk-dashed-wrapped {border: 1px dashed gray;margin: 0 0.4em 0.5em 0.4em;box-sizing: border-box;padding-bottom: 0.4em;background-color: white;position: relative;}#sk-2cc43f56-4f71-4a7a-8f74-af5f3eb9b54d div.sk-label label {font-family: monospace;font-weight: bold;background-color: white;display: inline-block;line-height: 1.2em;}#sk-2cc43f56-4f71-4a7a-8f74-af5f3eb9b54d div.sk-label-container {position: relative;z-index: 2;text-align: center;}#sk-2cc43f56-4f71-4a7a-8f74-af5f3eb9b54d div.sk-container {/* jupyter's `normalize.less` sets `[hidden] { display: none; }` but bootstrap.min.css set `[hidden] { display: none !important; }` so we also need the `!important` here to be able to override the default hidden behavior on the sphinx rendered scikit-learn.org. See: https://github.com/scikit-learn/scikit-learn/issues/21755 */display: inline-block !important;position: relative;}#sk-2cc43f56-4f71-4a7a-8f74-af5f3eb9b54d div.sk-text-repr-fallback {display: none;}</style><div id=\"sk-2cc43f56-4f71-4a7a-8f74-af5f3eb9b54d\" class=\"sk-top-container\"><div class=\"sk-text-repr-fallback\"><pre>Pipeline(steps=[(&#x27;preproc&#x27;,\n",
              "                 ColumnTransformer(remainder=&#x27;passthrough&#x27;,\n",
              "                                   transformers=[(&#x27;cat_pipe&#x27;,\n",
              "                                                  Pipeline(steps=[(&#x27;cat_impute&#x27;,\n",
              "                                                                   SimpleImputer(strategy=&#x27;most_frequent&#x27;)),\n",
              "                                                                  (&#x27;onehot_cat&#x27;,\n",
              "                                                                   OneHotEncoder(handle_unknown=&#x27;ignore&#x27;))]),\n",
              "                                                  &lt;sklearn.compose._column_transformer.make_column_selector object at 0x7fba4512dc50&gt;),\n",
              "                                                 (&#x27;num_pipe&#x27;,\n",
              "                                                  Pipeline(steps=[(&#x27;impute_num&#x27;,\n",
              "                                                                   SimpleImputer()),\n",
              "                                                                  (&#x27;scale_num&#x27;,\n",
              "                                                                   StandardScaler())]),\n",
              "                                                  &lt;sklearn.compose._column_transformer.make_column_selector object at 0x7fba4512dd50&gt;)])),\n",
              "                (&#x27;rf&#x27;, RandomForestClassifier())])</pre><b>Please rerun this cell to show the HTML repr or trust the notebook.</b></div><div class=\"sk-container\" hidden><div class=\"sk-item sk-dashed-wrapped\"><div class=\"sk-label-container\"><div class=\"sk-label sk-toggleable\"><input class=\"sk-toggleable__control sk-hidden--visually\" id=\"774aac5d-dc7d-401b-8876-0f04e3c38a44\" type=\"checkbox\" ><label for=\"774aac5d-dc7d-401b-8876-0f04e3c38a44\" class=\"sk-toggleable__label sk-toggleable__label-arrow\">Pipeline</label><div class=\"sk-toggleable__content\"><pre>Pipeline(steps=[(&#x27;preproc&#x27;,\n",
              "                 ColumnTransformer(remainder=&#x27;passthrough&#x27;,\n",
              "                                   transformers=[(&#x27;cat_pipe&#x27;,\n",
              "                                                  Pipeline(steps=[(&#x27;cat_impute&#x27;,\n",
              "                                                                   SimpleImputer(strategy=&#x27;most_frequent&#x27;)),\n",
              "                                                                  (&#x27;onehot_cat&#x27;,\n",
              "                                                                   OneHotEncoder(handle_unknown=&#x27;ignore&#x27;))]),\n",
              "                                                  &lt;sklearn.compose._column_transformer.make_column_selector object at 0x7fba4512dc50&gt;),\n",
              "                                                 (&#x27;num_pipe&#x27;,\n",
              "                                                  Pipeline(steps=[(&#x27;impute_num&#x27;,\n",
              "                                                                   SimpleImputer()),\n",
              "                                                                  (&#x27;scale_num&#x27;,\n",
              "                                                                   StandardScaler())]),\n",
              "                                                  &lt;sklearn.compose._column_transformer.make_column_selector object at 0x7fba4512dd50&gt;)])),\n",
              "                (&#x27;rf&#x27;, RandomForestClassifier())])</pre></div></div></div><div class=\"sk-serial\"><div class=\"sk-item sk-dashed-wrapped\"><div class=\"sk-label-container\"><div class=\"sk-label sk-toggleable\"><input class=\"sk-toggleable__control sk-hidden--visually\" id=\"23cb5eed-bc97-4ff3-8ea6-00739386dbed\" type=\"checkbox\" ><label for=\"23cb5eed-bc97-4ff3-8ea6-00739386dbed\" class=\"sk-toggleable__label sk-toggleable__label-arrow\">preproc: ColumnTransformer</label><div class=\"sk-toggleable__content\"><pre>ColumnTransformer(remainder=&#x27;passthrough&#x27;,\n",
              "                  transformers=[(&#x27;cat_pipe&#x27;,\n",
              "                                 Pipeline(steps=[(&#x27;cat_impute&#x27;,\n",
              "                                                  SimpleImputer(strategy=&#x27;most_frequent&#x27;)),\n",
              "                                                 (&#x27;onehot_cat&#x27;,\n",
              "                                                  OneHotEncoder(handle_unknown=&#x27;ignore&#x27;))]),\n",
              "                                 &lt;sklearn.compose._column_transformer.make_column_selector object at 0x7fba4512dc50&gt;),\n",
              "                                (&#x27;num_pipe&#x27;,\n",
              "                                 Pipeline(steps=[(&#x27;impute_num&#x27;,\n",
              "                                                  SimpleImputer()),\n",
              "                                                 (&#x27;scale_num&#x27;,\n",
              "                                                  StandardScaler())]),\n",
              "                                 &lt;sklearn.compose._column_transformer.make_column_selector object at 0x7fba4512dd50&gt;)])</pre></div></div></div><div class=\"sk-parallel\"><div class=\"sk-parallel-item\"><div class=\"sk-item\"><div class=\"sk-label-container\"><div class=\"sk-label sk-toggleable\"><input class=\"sk-toggleable__control sk-hidden--visually\" id=\"17291323-a87d-4241-b187-706abce68d8d\" type=\"checkbox\" ><label for=\"17291323-a87d-4241-b187-706abce68d8d\" class=\"sk-toggleable__label sk-toggleable__label-arrow\">cat_pipe</label><div class=\"sk-toggleable__content\"><pre>&lt;sklearn.compose._column_transformer.make_column_selector object at 0x7fba4512dc50&gt;</pre></div></div></div><div class=\"sk-serial\"><div class=\"sk-item\"><div class=\"sk-serial\"><div class=\"sk-item\"><div class=\"sk-estimator sk-toggleable\"><input class=\"sk-toggleable__control sk-hidden--visually\" id=\"343b9ebb-be17-4e3b-8166-12d91dee51f3\" type=\"checkbox\" ><label for=\"343b9ebb-be17-4e3b-8166-12d91dee51f3\" class=\"sk-toggleable__label sk-toggleable__label-arrow\">SimpleImputer</label><div class=\"sk-toggleable__content\"><pre>SimpleImputer(strategy=&#x27;most_frequent&#x27;)</pre></div></div></div><div class=\"sk-item\"><div class=\"sk-estimator sk-toggleable\"><input class=\"sk-toggleable__control sk-hidden--visually\" id=\"b2bc76ad-54f5-421b-9bed-55ab8925b547\" type=\"checkbox\" ><label for=\"b2bc76ad-54f5-421b-9bed-55ab8925b547\" class=\"sk-toggleable__label sk-toggleable__label-arrow\">OneHotEncoder</label><div class=\"sk-toggleable__content\"><pre>OneHotEncoder(handle_unknown=&#x27;ignore&#x27;)</pre></div></div></div></div></div></div></div></div><div class=\"sk-parallel-item\"><div class=\"sk-item\"><div class=\"sk-label-container\"><div class=\"sk-label sk-toggleable\"><input class=\"sk-toggleable__control sk-hidden--visually\" id=\"945fbfe5-b795-42c7-877c-4a424eb93c4f\" type=\"checkbox\" ><label for=\"945fbfe5-b795-42c7-877c-4a424eb93c4f\" class=\"sk-toggleable__label sk-toggleable__label-arrow\">num_pipe</label><div class=\"sk-toggleable__content\"><pre>&lt;sklearn.compose._column_transformer.make_column_selector object at 0x7fba4512dd50&gt;</pre></div></div></div><div class=\"sk-serial\"><div class=\"sk-item\"><div class=\"sk-serial\"><div class=\"sk-item\"><div class=\"sk-estimator sk-toggleable\"><input class=\"sk-toggleable__control sk-hidden--visually\" id=\"009b344e-065e-4098-b9b6-490d2aa7f580\" type=\"checkbox\" ><label for=\"009b344e-065e-4098-b9b6-490d2aa7f580\" class=\"sk-toggleable__label sk-toggleable__label-arrow\">SimpleImputer</label><div class=\"sk-toggleable__content\"><pre>SimpleImputer()</pre></div></div></div><div class=\"sk-item\"><div class=\"sk-estimator sk-toggleable\"><input class=\"sk-toggleable__control sk-hidden--visually\" id=\"603becd6-0cd3-4a2b-9870-973e0acb32ee\" type=\"checkbox\" ><label for=\"603becd6-0cd3-4a2b-9870-973e0acb32ee\" class=\"sk-toggleable__label sk-toggleable__label-arrow\">StandardScaler</label><div class=\"sk-toggleable__content\"><pre>StandardScaler()</pre></div></div></div></div></div></div></div></div><div class=\"sk-parallel-item\"><div class=\"sk-item\"><div class=\"sk-label-container\"><div class=\"sk-label sk-toggleable\"><input class=\"sk-toggleable__control sk-hidden--visually\" id=\"5eb0e965-207d-4023-84bf-8dd52c77c3fe\" type=\"checkbox\" ><label for=\"5eb0e965-207d-4023-84bf-8dd52c77c3fe\" class=\"sk-toggleable__label sk-toggleable__label-arrow\">remainder</label><div class=\"sk-toggleable__content\"><pre></pre></div></div></div><div class=\"sk-serial\"><div class=\"sk-item\"><div class=\"sk-estimator sk-toggleable\"><input class=\"sk-toggleable__control sk-hidden--visually\" id=\"e1456c85-b602-49be-87f9-8f25be67ca6a\" type=\"checkbox\" ><label for=\"e1456c85-b602-49be-87f9-8f25be67ca6a\" class=\"sk-toggleable__label sk-toggleable__label-arrow\">passthrough</label><div class=\"sk-toggleable__content\"><pre>passthrough</pre></div></div></div></div></div></div></div></div><div class=\"sk-item\"><div class=\"sk-estimator sk-toggleable\"><input class=\"sk-toggleable__control sk-hidden--visually\" id=\"1bcbd8bd-fd97-43b2-8948-f33d5d8adb58\" type=\"checkbox\" ><label for=\"1bcbd8bd-fd97-43b2-8948-f33d5d8adb58\" class=\"sk-toggleable__label sk-toggleable__label-arrow\">RandomForestClassifier</label><div class=\"sk-toggleable__content\"><pre>RandomForestClassifier()</pre></div></div></div></div></div></div></div>"
            ]
          },
          "metadata": {}
        }
      ]
    },
    {
      "cell_type": "markdown",
      "source": [
        "# Cross-validation with hyperparameter tuning"
      ],
      "metadata": {
        "id": "po2mNvUNpZSy"
      }
    },
    {
      "cell_type": "markdown",
      "source": [
        "LogisticalRegression"
      ],
      "metadata": {
        "id": "YwiedevnpiH2"
      }
    },
    {
      "cell_type": "code",
      "source": [
        "# TODO: set up your tuning grid \n",
        "# grid_search_lr.get_params().keys()\n",
        "tuning_grid_lr = {'mdl__l1_ratio' : np.linspace(0,1,5),\n",
        "                           'mdl__C': np.logspace(-1, 6, 3) }\n",
        "grid_search_lr = GridSearchCV(pipeLR, param_grid = tuning_grid_lr, cv = 5, return_train_score=True)\n",
        "\n",
        "print(grid_search_lr)"
      ],
      "metadata": {
        "colab": {
          "base_uri": "https://localhost:8080/"
        },
        "id": "m7f5ILD1pkvl",
        "outputId": "1530cd12-7b7e-4db7-f27a-5ab744119b14"
      },
      "execution_count": 234,
      "outputs": [
        {
          "output_type": "stream",
          "name": "stdout",
          "text": [
            "GridSearchCV(cv=5,\n",
            "             estimator=Pipeline(steps=[('preproc',\n",
            "                                        ColumnTransformer(remainder='passthrough',\n",
            "                                                          transformers=[('cat_pipe',\n",
            "                                                                         Pipeline(steps=[('cat_impute',\n",
            "                                                                                          SimpleImputer(strategy='most_frequent')),\n",
            "                                                                                         ('onehot_cat',\n",
            "                                                                                          OneHotEncoder(handle_unknown='ignore'))]),\n",
            "                                                                         <sklearn.compose._column_transformer.make_column_selector object at 0x7fba4512dc50>),\n",
            "                                                                        ('num_pipe',\n",
            "                                                                         Pipeli...\n",
            "                                                                                          SimpleImputer()),\n",
            "                                                                                         ('scale_num',\n",
            "                                                                                          StandardScaler())]),\n",
            "                                                                         <sklearn.compose._column_transformer.make_column_selector object at 0x7fba4512dd50>)])),\n",
            "                                       ('mdl',\n",
            "                                        LogisticRegression(penalty='elasticnet',\n",
            "                                                           solver='saga',\n",
            "                                                           tol=0.01))]),\n",
            "             param_grid={'mdl__C': array([1.00000000e-01, 3.16227766e+02, 1.00000000e+06]),\n",
            "                         'mdl__l1_ratio': array([0.  , 0.25, 0.5 , 0.75, 1.  ])},\n",
            "             return_train_score=True)\n"
          ]
        }
      ]
    },
    {
      "cell_type": "markdown",
      "source": [
        "RandomForest"
      ],
      "metadata": {
        "id": "bvogrf-Kpu6W"
      }
    },
    {
      "cell_type": "code",
      "source": [
        "# TODO: set up your tuning grid\n",
        "# grid_search_rf.get_params().keys()\n",
        "tuning_grid_rf = param_grid = {'rf__n_estimators': [10, 50],\n",
        "                                        'rf__max_features': ['auto', 'sqrt', 'log2'],\n",
        "                                        'rf__max_depth' : [4,5,6],\n",
        "                                        'rf__criterion' :['gini', 'entropy']\n",
        "                                       }\n",
        "grid_search_rf = GridSearchCV(pipeRandForest, param_grid = tuning_grid_rf, cv = 5, return_train_score=True)"
      ],
      "metadata": {
        "id": "61Qt6mf2pxdJ"
      },
      "execution_count": 235,
      "outputs": []
    },
    {
      "cell_type": "markdown",
      "source": [
        "GradientBoost"
      ],
      "metadata": {
        "id": "z8RqGurJpy_m"
      }
    },
    {
      "cell_type": "code",
      "source": [
        "# TODO: set up your tuning grid\n",
        "# grid_search_gb.get_params().keys()\n",
        "tuning_grid_gb = param_grid = {'gbc__learning_rate': [1, 0.5, 0.25],\n",
        "                                       'gbc__n_estimators': [64, 128, 256],\n",
        "                                       'gbc__max_depth': [2, 4],\n",
        "                                       'gbc__min_samples_split': [2, 4]\n",
        "                                      }\n",
        "grid_search_gb = GridSearchCV(pipeGradBoost, param_grid = tuning_grid_gb, cv = 5, return_train_score=True)"
      ],
      "metadata": {
        "id": "DHxqomRop1Eo"
      },
      "execution_count": 236,
      "outputs": []
    },
    {
      "cell_type": "markdown",
      "source": [
        "# Fitting"
      ],
      "metadata": {
        "id": "9wqpRFSsqfJV"
      }
    },
    {
      "cell_type": "code",
      "source": [
        "# Fit Logistic\n",
        "grid_search_lr.fit(X_train, y_train)"
      ],
      "metadata": {
        "colab": {
          "base_uri": "https://localhost:8080/"
        },
        "id": "edZZ7lIyqjey",
        "outputId": "25a8bb21-20fe-4d9a-b23a-23123019c217"
      },
      "execution_count": 237,
      "outputs": [
        {
          "output_type": "execute_result",
          "data": {
            "text/plain": [
              "GridSearchCV(cv=5,\n",
              "             estimator=Pipeline(steps=[('preproc',\n",
              "                                        ColumnTransformer(remainder='passthrough',\n",
              "                                                          transformers=[('cat_pipe',\n",
              "                                                                         Pipeline(steps=[('cat_impute',\n",
              "                                                                                          SimpleImputer(strategy='most_frequent')),\n",
              "                                                                                         ('onehot_cat',\n",
              "                                                                                          OneHotEncoder(handle_unknown='ignore'))]),\n",
              "                                                                         <sklearn.compose._column_transformer.make_column_selector object at 0x7fba4512dc50>),\n",
              "                                                                        ('num_pipe',\n",
              "                                                                         Pipeli...\n",
              "                                                                                          SimpleImputer()),\n",
              "                                                                                         ('scale_num',\n",
              "                                                                                          StandardScaler())]),\n",
              "                                                                         <sklearn.compose._column_transformer.make_column_selector object at 0x7fba4512dd50>)])),\n",
              "                                       ('mdl',\n",
              "                                        LogisticRegression(penalty='elasticnet',\n",
              "                                                           solver='saga',\n",
              "                                                           tol=0.01))]),\n",
              "             param_grid={'mdl__C': array([1.00000000e-01, 3.16227766e+02, 1.00000000e+06]),\n",
              "                         'mdl__l1_ratio': array([0.  , 0.25, 0.5 , 0.75, 1.  ])},\n",
              "             return_train_score=True)"
            ]
          },
          "metadata": {},
          "execution_count": 237
        }
      ]
    },
    {
      "cell_type": "code",
      "source": [
        "# Fit Gradient (Warning: takes forever!)\n",
        "#grid_search_gb.fit(X_train, y_train)"
      ],
      "metadata": {
        "id": "CMPIiXtBqk1U"
      },
      "execution_count": 260,
      "outputs": []
    },
    {
      "cell_type": "code",
      "source": [
        "# Fit RandomForest\n",
        "grid_search_rf.fit(X_train, y_train)"
      ],
      "metadata": {
        "colab": {
          "base_uri": "https://localhost:8080/"
        },
        "id": "wfyBSFqbqlaS",
        "outputId": "5f61a556-0910-4c81-c168-c7eafdbe406d"
      },
      "execution_count": 240,
      "outputs": [
        {
          "output_type": "execute_result",
          "data": {
            "text/plain": [
              "GridSearchCV(cv=5,\n",
              "             estimator=Pipeline(steps=[('preproc',\n",
              "                                        ColumnTransformer(remainder='passthrough',\n",
              "                                                          transformers=[('cat_pipe',\n",
              "                                                                         Pipeline(steps=[('cat_impute',\n",
              "                                                                                          SimpleImputer(strategy='most_frequent')),\n",
              "                                                                                         ('onehot_cat',\n",
              "                                                                                          OneHotEncoder(handle_unknown='ignore'))]),\n",
              "                                                                         <sklearn.compose._column_transformer.make_column_selector object at 0x7fba4512dc50>),\n",
              "                                                                        ('num_pipe',\n",
              "                                                                         Pipeli...=[('impute_num',\n",
              "                                                                                          SimpleImputer()),\n",
              "                                                                                         ('scale_num',\n",
              "                                                                                          StandardScaler())]),\n",
              "                                                                         <sklearn.compose._column_transformer.make_column_selector object at 0x7fba4512dd50>)])),\n",
              "                                       ('rf', RandomForestClassifier())]),\n",
              "             param_grid={'rf__criterion': ['gini', 'entropy'],\n",
              "                         'rf__max_depth': [4, 5, 6],\n",
              "                         'rf__max_features': ['auto', 'sqrt', 'log2'],\n",
              "                         'rf__n_estimators': [10, 50]},\n",
              "             return_train_score=True)"
            ]
          },
          "metadata": {},
          "execution_count": 240
        }
      ]
    },
    {
      "cell_type": "markdown",
      "source": [
        "# Best Performing Model Parameters"
      ],
      "metadata": {
        "id": "oa33XMI-sIa6"
      }
    },
    {
      "cell_type": "markdown",
      "source": [
        "LogisticalRegression"
      ],
      "metadata": {
        "id": "srkeiKpHsMxA"
      }
    },
    {
      "cell_type": "code",
      "source": [
        "print(\"LogisticRegression best score:\", grid_search_lr.best_score_)\n",
        "grid_search_lr.best_params_"
      ],
      "metadata": {
        "colab": {
          "base_uri": "https://localhost:8080/"
        },
        "id": "ahdPukoRsB30",
        "outputId": "588df683-34c7-42e7-9617-ff88d9b5e9ac"
      },
      "execution_count": 242,
      "outputs": [
        {
          "output_type": "stream",
          "name": "stdout",
          "text": [
            "LogisticRegression best score: 0.9432708779594335\n"
          ]
        },
        {
          "output_type": "execute_result",
          "data": {
            "text/plain": [
              "{'mdl__C': 1000000.0, 'mdl__l1_ratio': 0.25}"
            ]
          },
          "metadata": {},
          "execution_count": 242
        }
      ]
    },
    {
      "cell_type": "markdown",
      "source": [
        "RandomForest"
      ],
      "metadata": {
        "id": "sXHbzcu8sUup"
      }
    },
    {
      "cell_type": "code",
      "source": [
        "print(\"RandomForest best score:\", grid_search_rf.best_score_)\n",
        "grid_search_rf.best_params_"
      ],
      "metadata": {
        "colab": {
          "base_uri": "https://localhost:8080/"
        },
        "id": "cKrxuhfnsWug",
        "outputId": "3a6eccb1-056b-4f2c-d44e-7922b0298421"
      },
      "execution_count": 243,
      "outputs": [
        {
          "output_type": "stream",
          "name": "stdout",
          "text": [
            "RandomForest best score: 0.9400799017257263\n"
          ]
        },
        {
          "output_type": "execute_result",
          "data": {
            "text/plain": [
              "{'rf__criterion': 'entropy',\n",
              " 'rf__max_depth': 6,\n",
              " 'rf__max_features': 'auto',\n",
              " 'rf__n_estimators': 50}"
            ]
          },
          "metadata": {},
          "execution_count": 243
        }
      ]
    },
    {
      "cell_type": "markdown",
      "source": [
        "GradientBoost"
      ],
      "metadata": {
        "id": "lEEF95M_sXx8"
      }
    },
    {
      "cell_type": "code",
      "source": [
        "print(\"GradientBoost best score:\", grid_search_gb.best_score_)\n",
        "grid_search_gb.best_params_"
      ],
      "metadata": {
        "id": "p-uSmQoGscVG"
      },
      "execution_count": null,
      "outputs": []
    },
    {
      "cell_type": "markdown",
      "source": [
        "# Final Fit"
      ],
      "metadata": {
        "id": "MU1aP2b8skWY"
      }
    },
    {
      "cell_type": "markdown",
      "source": [
        "LogisticalRegression"
      ],
      "metadata": {
        "id": "6eI_8VJ-spuJ"
      }
    },
    {
      "cell_type": "code",
      "source": [
        "grid_search_lr.best_estimator_"
      ],
      "metadata": {
        "colab": {
          "base_uri": "https://localhost:8080/"
        },
        "id": "2FFHgBTOssRs",
        "outputId": "1321cddf-0163-4e2d-b101-20a524ac71bf"
      },
      "execution_count": 244,
      "outputs": [
        {
          "output_type": "execute_result",
          "data": {
            "text/plain": [
              "Pipeline(steps=[('preproc',\n",
              "                 ColumnTransformer(remainder='passthrough',\n",
              "                                   transformers=[('cat_pipe',\n",
              "                                                  Pipeline(steps=[('cat_impute',\n",
              "                                                                   SimpleImputer(strategy='most_frequent')),\n",
              "                                                                  ('onehot_cat',\n",
              "                                                                   OneHotEncoder(handle_unknown='ignore'))]),\n",
              "                                                  <sklearn.compose._column_transformer.make_column_selector object at 0x7fb99d836e90>),\n",
              "                                                 ('num_pipe',\n",
              "                                                  Pipeline(steps=[('impute_num',\n",
              "                                                                   SimpleImputer()),\n",
              "                                                                  ('scale_num',\n",
              "                                                                   StandardScaler())]),\n",
              "                                                  <sklearn.compose._column_transformer.make_column_selector object at 0x7fba45a8be50>)])),\n",
              "                ('mdl',\n",
              "                 LogisticRegression(C=1000000.0, l1_ratio=0.25,\n",
              "                                    penalty='elasticnet', solver='saga',\n",
              "                                    tol=0.01))])"
            ]
          },
          "metadata": {},
          "execution_count": 244
        }
      ]
    },
    {
      "cell_type": "markdown",
      "source": [
        "RandomForest"
      ],
      "metadata": {
        "id": "ZSX3cv0is0ML"
      }
    },
    {
      "cell_type": "code",
      "source": [
        "grid_search_rf.best_estimator_"
      ],
      "metadata": {
        "colab": {
          "base_uri": "https://localhost:8080/"
        },
        "id": "UGQD2M3Ks3X1",
        "outputId": "80e59fb0-271c-44b9-d968-5aea685dd585"
      },
      "execution_count": 245,
      "outputs": [
        {
          "output_type": "execute_result",
          "data": {
            "text/plain": [
              "Pipeline(steps=[('preproc',\n",
              "                 ColumnTransformer(remainder='passthrough',\n",
              "                                   transformers=[('cat_pipe',\n",
              "                                                  Pipeline(steps=[('cat_impute',\n",
              "                                                                   SimpleImputer(strategy='most_frequent')),\n",
              "                                                                  ('onehot_cat',\n",
              "                                                                   OneHotEncoder(handle_unknown='ignore'))]),\n",
              "                                                  <sklearn.compose._column_transformer.make_column_selector object at 0x7fba45d5fb50>),\n",
              "                                                 ('num_pipe',\n",
              "                                                  Pipeline(steps=[('impute_num',\n",
              "                                                                   SimpleImputer()),\n",
              "                                                                  ('scale_num',\n",
              "                                                                   StandardScaler())]),\n",
              "                                                  <sklearn.compose._column_transformer.make_column_selector object at 0x7fba45d5f8d0>)])),\n",
              "                ('rf',\n",
              "                 RandomForestClassifier(criterion='entropy', max_depth=6,\n",
              "                                        n_estimators=50))])"
            ]
          },
          "metadata": {},
          "execution_count": 245
        }
      ]
    },
    {
      "cell_type": "markdown",
      "source": [
        "GradientBoost"
      ],
      "metadata": {
        "id": "L-en2LShs6wx"
      }
    },
    {
      "cell_type": "code",
      "source": [
        "grid_search_gb.best_estimator_"
      ],
      "metadata": {
        "id": "t6Gs18Pos8SJ"
      },
      "execution_count": null,
      "outputs": []
    },
    {
      "cell_type": "markdown",
      "source": [
        "# Variable Importance"
      ],
      "metadata": {
        "id": "f1mDMLVdtCFP"
      }
    },
    {
      "cell_type": "markdown",
      "source": [
        "LogisticalRegression"
      ],
      "metadata": {
        "id": "lFLSOEvwtRmP"
      }
    },
    {
      "cell_type": "code",
      "source": [
        "grid_search_lr.classes_"
      ],
      "metadata": {
        "colab": {
          "base_uri": "https://localhost:8080/"
        },
        "id": "AW9bAX-UtFW4",
        "outputId": "399f306b-02a1-4574-8364-60f747ff2104"
      },
      "execution_count": 246,
      "outputs": [
        {
          "output_type": "execute_result",
          "data": {
            "text/plain": [
              "array(['No', 'Yes'], dtype=object)"
            ]
          },
          "metadata": {},
          "execution_count": 246
        }
      ]
    },
    {
      "cell_type": "code",
      "source": [
        "vip_lr = grid_search_lr.best_estimator_['mdl'].coef_[0]\n",
        "print(grid_search_lr.best_estimator_['mdl'].coef_[0])\n",
        "vip_lr"
      ],
      "metadata": {
        "colab": {
          "base_uri": "https://localhost:8080/"
        },
        "id": "6zZHHSVZtXDL",
        "outputId": "8ab9d5a4-1759-41b3-9268-89e52783c5eb"
      },
      "execution_count": 247,
      "outputs": [
        {
          "output_type": "stream",
          "name": "stdout",
          "text": [
            "[-2.38490033e+00 -1.20858125e-01 -5.46432218e-02 -5.21217345e-03\n",
            " -4.18440094e-01 -3.41467153e-01 -3.00095004e-01 -5.47917273e-01\n",
            " -3.67668630e-01 -2.83652542e+00 -5.04232806e-02 -4.53017488e-02\n",
            " -2.48232246e+00 -5.92171176e-03 -5.74841988e-02 -2.37642756e+00\n",
            " -5.30157981e-02 -3.51204039e-03 -5.24232024e-02 -2.31779838e+00\n",
            " -1.45036014e-02 -2.81203220e-02 -4.89141603e-02 -1.27863640e-01\n",
            " -5.99900674e-01 -2.20365454e-01 -2.13228667e-01  5.87246620e-01\n",
            " -4.32166724e-02 -1.86827572e-01 -1.32101309e-02 -1.80682393e-01\n",
            " -2.67675509e-01 -4.84268342e-01 -5.94466079e-02 -1.65745503e-02\n",
            " -5.94323535e-02  3.93451042e-03 -8.23256122e-02 -8.99602898e-01\n",
            " -4.85446945e-01 -3.54954964e-01 -2.86598859e-01 -6.98256887e-02\n",
            " -2.33133421e-01 -3.69964598e-01  1.05553844e-01 -4.06398833e-01\n",
            " -2.10770827e-01 -3.31564488e-01 -5.60393176e-02 -5.57737720e-01\n",
            "  2.30263294e-01 -3.04088951e-01 -3.35143241e-01 -5.39461070e-01\n",
            " -3.29692333e-01 -9.18523585e-02  1.90681748e-02 -4.86991917e-01\n",
            " -1.93691611e-01 -2.29472236e-02 -4.48135388e-02 -1.08154439e-01\n",
            " -8.52940402e-02  8.67048133e-04 -2.33092981e-01 -4.01860771e-01\n",
            " -2.59041944e-01 -5.02176260e-01 -1.15893692e-01 -5.52605172e-01\n",
            "  1.17097027e-01 -4.04490671e-01 -3.81223233e-01 -1.07201606e-01\n",
            " -8.38135379e-02 -3.19717937e-01 -6.30243457e-02 -8.00562433e-02\n",
            " -5.49515278e-02  1.10750346e-01 -2.19867632e-01 -3.40812061e-01\n",
            " -1.22967530e+00 -1.99372768e-01 -3.11653899e-01 -9.30144681e-02\n",
            " -2.86837009e-01 -5.36577854e-02 -3.37002061e-01 -9.84462076e-02\n",
            " -4.37816890e-01 -6.89708607e-01 -1.78417954e-01  1.94473945e-03\n",
            "  6.53764683e-02  4.89199620e-01  2.76826846e-01 -1.92179185e-01\n",
            "  5.92101633e-02  3.91251983e-02 -9.10736588e-02 -1.38634810e-02\n",
            "  3.04910586e-01 -1.52860520e-01  7.99633964e-02  1.62620979e-01\n",
            "  2.34580071e-01  1.66745236e-01  1.61498143e-01 -1.54819908e-02\n",
            " -1.56414881e-01  2.90940121e-01  5.12643863e-01 -2.26272383e-01\n",
            "  1.21515211e-01 -1.07313896e-01  2.59856303e-01]\n"
          ]
        },
        {
          "output_type": "execute_result",
          "data": {
            "text/plain": [
              "array([-2.38490033e+00, -1.20858125e-01, -5.46432218e-02, -5.21217345e-03,\n",
              "       -4.18440094e-01, -3.41467153e-01, -3.00095004e-01, -5.47917273e-01,\n",
              "       -3.67668630e-01, -2.83652542e+00, -5.04232806e-02, -4.53017488e-02,\n",
              "       -2.48232246e+00, -5.92171176e-03, -5.74841988e-02, -2.37642756e+00,\n",
              "       -5.30157981e-02, -3.51204039e-03, -5.24232024e-02, -2.31779838e+00,\n",
              "       -1.45036014e-02, -2.81203220e-02, -4.89141603e-02, -1.27863640e-01,\n",
              "       -5.99900674e-01, -2.20365454e-01, -2.13228667e-01,  5.87246620e-01,\n",
              "       -4.32166724e-02, -1.86827572e-01, -1.32101309e-02, -1.80682393e-01,\n",
              "       -2.67675509e-01, -4.84268342e-01, -5.94466079e-02, -1.65745503e-02,\n",
              "       -5.94323535e-02,  3.93451042e-03, -8.23256122e-02, -8.99602898e-01,\n",
              "       -4.85446945e-01, -3.54954964e-01, -2.86598859e-01, -6.98256887e-02,\n",
              "       -2.33133421e-01, -3.69964598e-01,  1.05553844e-01, -4.06398833e-01,\n",
              "       -2.10770827e-01, -3.31564488e-01, -5.60393176e-02, -5.57737720e-01,\n",
              "        2.30263294e-01, -3.04088951e-01, -3.35143241e-01, -5.39461070e-01,\n",
              "       -3.29692333e-01, -9.18523585e-02,  1.90681748e-02, -4.86991917e-01,\n",
              "       -1.93691611e-01, -2.29472236e-02, -4.48135388e-02, -1.08154439e-01,\n",
              "       -8.52940402e-02,  8.67048133e-04, -2.33092981e-01, -4.01860771e-01,\n",
              "       -2.59041944e-01, -5.02176260e-01, -1.15893692e-01, -5.52605172e-01,\n",
              "        1.17097027e-01, -4.04490671e-01, -3.81223233e-01, -1.07201606e-01,\n",
              "       -8.38135379e-02, -3.19717937e-01, -6.30243457e-02, -8.00562433e-02,\n",
              "       -5.49515278e-02,  1.10750346e-01, -2.19867632e-01, -3.40812061e-01,\n",
              "       -1.22967530e+00, -1.99372768e-01, -3.11653899e-01, -9.30144681e-02,\n",
              "       -2.86837009e-01, -5.36577854e-02, -3.37002061e-01, -9.84462076e-02,\n",
              "       -4.37816890e-01, -6.89708607e-01, -1.78417954e-01,  1.94473945e-03,\n",
              "        6.53764683e-02,  4.89199620e-01,  2.76826846e-01, -1.92179185e-01,\n",
              "        5.92101633e-02,  3.91251983e-02, -9.10736588e-02, -1.38634810e-02,\n",
              "        3.04910586e-01, -1.52860520e-01,  7.99633964e-02,  1.62620979e-01,\n",
              "        2.34580071e-01,  1.66745236e-01,  1.61498143e-01, -1.54819908e-02,\n",
              "       -1.56414881e-01,  2.90940121e-01,  5.12643863e-01, -2.26272383e-01,\n",
              "        1.21515211e-01, -1.07313896e-01,  2.59856303e-01])"
            ]
          },
          "metadata": {},
          "execution_count": 247
        }
      ]
    },
    {
      "cell_type": "code",
      "source": [
        "\n",
        "#get names in correct preproc order\n",
        "cat_names = grid_search_lr.best_estimator_.named_steps['preproc'].transformers_[0][1].named_steps['onehot_cat'].get_feature_names_out()\n",
        "num_names = grid_search_lr.best_estimator_.named_steps['preproc'].transformers_[1][2]\n",
        "#create df with vip info\n",
        "coef_info = pd.DataFrame({'feat_names':np.hstack([cat_names, num_names]), 'vip': vip_lr})\n",
        "\n",
        "#get sign and magnitude information\n",
        "coef_info = coef_info.assign(coef_mag = abs(coef_info['vip']),\n",
        "                             coef_sign = np.sign(coef_info['vip']))\n",
        "\n",
        "#sort and plot\n",
        "coef_info = coef_info.set_index('feat_names').sort_values(by='coef_mag', ascending=False)\n",
        "plt.figure(figsize = (17,15))\n",
        "sns.barplot(y=coef_info.index, x='coef_mag', hue='coef_sign', data=coef_info, orient='h', dodge=True)"
      ],
      "metadata": {
        "colab": {
          "base_uri": "https://localhost:8080/",
          "height": 657
        },
        "id": "VId6vrJ5tXLN",
        "outputId": "4bbd0bf5-9043-446d-8eae-6ea3ef37708b"
      },
      "execution_count": 253,
      "outputs": [
        {
          "output_type": "execute_result",
          "data": {
            "text/plain": [
              "<matplotlib.axes._subplots.AxesSubplot at 0x7fb965705490>"
            ]
          },
          "metadata": {},
          "execution_count": 253
        },
        {
          "output_type": "display_data",
          "data": {
            "text/plain": [
              "<Figure size 1224x1080 with 1 Axes>"
            ],
            "image/png": "[encoded data removed]"
          },
          "metadata": {
            "needs_background": "light"
          }
        }
      ]
    },
    {
      "cell_type": "markdown",
      "source": [
        "Random Forest"
      ],
      "metadata": {
        "id": "TxJDho9qtXnn"
      }
    },
    {
      "cell_type": "code",
      "source": [
        "grid_search_rf.classes_"
      ],
      "metadata": {
        "colab": {
          "base_uri": "https://localhost:8080/"
        },
        "id": "pbHtIHzctZw4",
        "outputId": "b7e722fa-b4a5-41da-e049-e0176cc5ed2d"
      },
      "execution_count": 172,
      "outputs": [
        {
          "output_type": "execute_result",
          "data": {
            "text/plain": [
              "array(['No', 'Yes'], dtype=object)"
            ]
          },
          "metadata": {},
          "execution_count": 172
        }
      ]
    },
    {
      "cell_type": "code",
      "source": [
        "vip_rf = grid_search_rf.best_estimator_['rf']\n",
        "vip_rf\n",
        "\n",
        "print(grid_search_rf)"
      ],
      "metadata": {
        "colab": {
          "base_uri": "https://localhost:8080/"
        },
        "id": "mRF-o1uitZ4Z",
        "outputId": "0c3ee10a-5866-45ee-9630-e2b1693613ef"
      },
      "execution_count": 173,
      "outputs": [
        {
          "output_type": "stream",
          "name": "stdout",
          "text": [
            "GridSearchCV(cv=5,\n",
            "             estimator=Pipeline(steps=[('preproc',\n",
            "                                        ColumnTransformer(remainder='passthrough',\n",
            "                                                          transformers=[('cat_pipe',\n",
            "                                                                         Pipeline(steps=[('cat_impute',\n",
            "                                                                                          SimpleImputer(strategy='most_frequent')),\n",
            "                                                                                         ('onehot_cat',\n",
            "                                                                                          OneHotEncoder(handle_unknown='ignore'))]),\n",
            "                                                                         <sklearn.compose._column_transformer.make_column_selector object at 0x7fba4bba3a50>),\n",
            "                                                                        ('num_pipe',\n",
            "                                                                         Pipeli...=[('impute_num',\n",
            "                                                                                          SimpleImputer()),\n",
            "                                                                                         ('scale_num',\n",
            "                                                                                          StandardScaler())]),\n",
            "                                                                         <sklearn.compose._column_transformer.make_column_selector object at 0x7fba4bba36d0>)])),\n",
            "                                       ('rf', RandomForestClassifier())]),\n",
            "             param_grid={'rf__criterion': ['gini', 'entropy'],\n",
            "                         'rf__max_depth': [4, 5, 6],\n",
            "                         'rf__max_features': ['auto', 'sqrt', 'log2'],\n",
            "                         'rf__n_estimators': [10, 50]},\n",
            "             return_train_score=True)\n"
          ]
        }
      ]
    },
    {
      "cell_type": "code",
      "source": [
        "# TODO: feel free to uncomment and edit the code below to obtain your feature importance graph. \n",
        "# Did the graph surprise you? What features did you think were more important?\n",
        "\n",
        "\n",
        "#get names in correct preproc order\n",
        "cat_names = grid_search_rf.best_estimator_.named_steps['preproc'].transformers_[0][1]\n",
        "num_names = grid_search_rf.best_estimator_.named_steps['preproc'].transformers_[1][2]\n",
        "\n",
        "#create df with vip info\n",
        "#print(cat_names)\n",
        "#print(num_names)\n",
        "\n",
        "#coef_info = pd.DataFrame({'feat_names':np.hstack([cat_names, num_names]), 'vip': vip_rf})\n",
        "\n",
        "#get sign and magnitude information\n",
        "#coef_info = coef_info.assign(coef_mag = abs(coef_info['vip']),\n",
        "                             #coef_sign = np.sign(coef_info['vip']))\n",
        "\n",
        "#sort and plot\n",
        "#coef_info = coef_info.set_index('feat_names').sort_values(by='coef_mag', ascending=False)\n",
        "#plt.figure(figsize = (17,15))\n",
        "#sns.barplot(y=coef_info.index, x='coef_mag', hue='coef_sign', data=coef_info, orient='h', dodge=False)"
      ],
      "metadata": {
        "id": "NJZSzhmDtaAN"
      },
      "execution_count": 254,
      "outputs": []
    },
    {
      "cell_type": "markdown",
      "source": [
        "GradientBoost"
      ],
      "metadata": {
        "id": "30CWXz_YtaZy"
      }
    },
    {
      "cell_type": "code",
      "source": [
        "grid_search_gb.classes_"
      ],
      "metadata": {
        "id": "DoRLjCvftby1"
      },
      "execution_count": null,
      "outputs": []
    },
    {
      "cell_type": "code",
      "source": [
        "#vip_gb = grid_search_gb.best_estimator_['gb']\n",
        "#vip_gb\n",
        "\n",
        "#print(grid_search_gb)"
      ],
      "metadata": {
        "id": "kPh0qkTotb5W"
      },
      "execution_count": 259,
      "outputs": []
    },
    {
      "cell_type": "code",
      "source": [
        "# TODO: feel free to uncomment and edit the code below to obtain your feature importance graph. \n",
        "# Did the graph surprise you? What features did you think were more important?\n",
        "\n",
        "\n",
        "#get names in correct preproc order\n",
        "cat_names = grid_search_gb.best_estimator_.named_steps['preproc'].transformers_[0][1]\n",
        "num_names = grid_search_gb.best_estimator_.named_steps['preproc'].transformers_[1][2]\n",
        "\n",
        "#create df with vip info\n",
        "#print(cat_names)\n",
        "#print(num_names)\n",
        "\n",
        "coef_info = pd.DataFrame({'feat_names':np.hstack([cat_names, num_names]), 'vip': vip_gb})\n",
        "\n",
        "#get sign and magnitude information\n",
        "#coef_info = coef_info.assign(coef_mag = abs(coef_info['vip']),\n",
        "                             #coef_sign = np.sign(coef_info['vip']))\n",
        "\n",
        "#sort and plot\n",
        "#coef_info = coef_info.set_index('feat_names').sort_values(by='coef_mag', ascending=False)\n",
        "#plt.figure(figsize = (17,15))\n",
        "#sns.barplot(y=coef_info.index, x='coef_mag', hue='coef_sign', data=coef_info, orient='h', dodge=False)"
      ],
      "metadata": {
        "id": "ca_LchEStb_V"
      },
      "execution_count": null,
      "outputs": []
    },
    {
      "cell_type": "markdown",
      "source": [
        "# Performance metrics on test data"
      ],
      "metadata": {
        "id": "e1Bxa_KXuMrw"
      }
    },
    {
      "cell_type": "code",
      "source": [
        "print(classification_report(y_test, grid_search_lr.best_estimator_.predict(X_test)))"
      ],
      "metadata": {
        "colab": {
          "base_uri": "https://localhost:8080/"
        },
        "id": "s6lntEwbuV4T",
        "outputId": "ba5bf149-3f7f-4a3d-ae98-05e9e025bda3"
      },
      "execution_count": 256,
      "outputs": [
        {
          "output_type": "stream",
          "name": "stdout",
          "text": [
            "              precision    recall  f1-score   support\n",
            "\n",
            "          No       0.95      0.99      0.97      4566\n",
            "         Yes       0.71      0.39      0.50       370\n",
            "\n",
            "    accuracy                           0.94      4936\n",
            "   macro avg       0.83      0.69      0.74      4936\n",
            "weighted avg       0.93      0.94      0.93      4936\n",
            "\n"
          ]
        }
      ]
    },
    {
      "cell_type": "markdown",
      "source": [
        "Confusion Matrix"
      ],
      "metadata": {
        "id": "Snt_SQLxuYgA"
      }
    },
    {
      "cell_type": "code",
      "source": [
        "# TODO: plot the confusion matrix graph\n",
        "confMatrix_lr = confusion_matrix(y_test, grid_search_lr.best_estimator_.predict(X_test))\n",
        "confMatrixDisplay = ConfusionMatrixDisplay(confusion_matrix=confMatrix_lr, \n",
        "                                           display_labels=grid_search_lr.classes_)\n",
        "confMatrixDisplay.plot()\n",
        "plt.show()"
      ],
      "metadata": {
        "colab": {
          "base_uri": "https://localhost:8080/",
          "height": 283
        },
        "id": "0Fp3ZV6Pudo6",
        "outputId": "de5cd241-0d5e-4a2b-ddbe-9c6bd650b7ab"
      },
      "execution_count": 257,
      "outputs": [
        {
          "output_type": "display_data",
          "data": {
            "text/plain": [
              "<Figure size 432x288 with 2 Axes>"
            ],
            "image/png": "[encoded data removed]"
          },
          "metadata": {
            "needs_background": "light"
          }
        }
      ]
    },
    {
      "cell_type": "markdown",
      "source": [
        "Accuracy"
      ],
      "metadata": {
        "id": "24d0rb4PZR9n"
      }
    },
    {
      "cell_type": "code",
      "source": [
        "#     TP+TN/\n",
        "#   TP+TN+FP+FN\n",
        "numerator = 202+5650\n",
        "denominator = 202+5650+261+57\n",
        "\n",
        "accuracy = numerator/denominator\n",
        "format_float = \"{:.2f}\".format(accuracy*100)\n",
        "print('Accurancy', format_float,'%')"
      ],
      "metadata": {
        "colab": {
          "base_uri": "https://localhost:8080/"
        },
        "id": "giyeQk8PZS5h",
        "outputId": "d43b7baa-8b5f-464e-a6ca-ad100ab2ad12"
      },
      "execution_count": 258,
      "outputs": [
        {
          "output_type": "stream",
          "name": "stdout",
          "text": [
            "Accurancy 94.85 %\n"
          ]
        }
      ]
    }
  ]
}